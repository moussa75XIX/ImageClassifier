{
 "cells": [
  {
   "cell_type": "code",
   "execution_count": 1,
   "id": "fb7b5e15",
   "metadata": {},
   "outputs": [],
   "source": [
    "import os\n",
    "import ctypes\n",
    "import numpy as np\n",
    "from PIL import Image"
   ]
  },
  {
   "cell_type": "code",
   "execution_count": 2,
   "id": "107f6c72",
   "metadata": {},
   "outputs": [],
   "source": [
    "PATH_TO_SHARED_LIBRARY = \"../library/cmake-build-debug/liblibrary\"\n",
    "MY_LIB = ctypes.CDLL(PATH_TO_SHARED_LIBRARY)"
   ]
  },
  {
   "cell_type": "code",
   "execution_count": 3,
   "id": "b7139883",
   "metadata": {},
   "outputs": [],
   "source": [
    "MAIN_DATASET_FOLDER = \"..\\\\dataset\\\\\"\n",
    "\n",
    "TEST_SUBFOLDER = os.path.join(MAIN_DATASET_FOLDER, \"test\")\n",
    "TRAIN_SUBFOLDER = os.path.join(MAIN_DATASET_FOLDER, \"train\")\n",
    "\n",
    "TEST_ESPAGNE_FOLDER = os.path.join(TEST_SUBFOLDER, \"espagne\")\n",
    "TEST_FRANCE_FOLDER = os.path.join(TEST_SUBFOLDER, \"france\")\n",
    "TEST_JAPON_FOLDER = os.path.join(TEST_SUBFOLDER, \"japon\")\n",
    "\n",
    "TRAIN_ESPAGNE_FOLDER = os.path.join(TRAIN_SUBFOLDER, \"espagne\")\n",
    "TRAIN_FRANCE_FOLDER = os.path.join(TRAIN_SUBFOLDER, \"france\")\n",
    "TRAIN_JAPON_FOLDER = os.path.join(TRAIN_SUBFOLDER, \"japon\")"
   ]
  },
  {
   "cell_type": "code",
   "execution_count": 4,
   "id": "05a0c5f9",
   "metadata": {},
   "outputs": [],
   "source": [
    "def fill_x_and_y_with_images_and_labels(folder, classe, dataset):\n",
    "\n",
    "    for file in os.listdir(folder):\n",
    "\n",
    "        file_path = os.path.join(folder, file)\n",
    "        image = Image.open(file_path)\n",
    "        image = image.resize((8, 8))\n",
    "\n",
    "        im_arr = np.array(image).flatten()\n",
    "        im_arr = im_arr / 255.0\n",
    "\n",
    "        completed_dataset = {}\n",
    "        completed_dataset[\"value\"] = im_arr\n",
    "        completed_dataset[\"classe\"] = classe\n",
    "\n",
    "        dataset.append(completed_dataset.copy())"
   ]
  },
  {
   "cell_type": "code",
   "execution_count": 5,
   "id": "80f5b5ce",
   "metadata": {},
   "outputs": [],
   "source": [
    "def import_dataset(folder, classe):\n",
    "\n",
    "    dataset = []\n",
    "\n",
    "    fill_x_and_y_with_images_and_labels(folder, classe, dataset)\n",
    "\n",
    "    return dataset"
   ]
  },
  {
   "cell_type": "code",
   "execution_count": 6,
   "id": "b82027c6",
   "metadata": {},
   "outputs": [],
   "source": [
    "x_test = []\n",
    "y_test = []\n",
    "\n",
    "x_train = []\n",
    "y_train = []\n",
    "\n",
    "class_espagne_expected_outputs = [1, 0, 0]\n",
    "dataset_test_for_espagne = import_dataset(TEST_ESPAGNE_FOLDER, class_espagne_expected_outputs)\n",
    "dataset_train_for_espagne = import_dataset(TRAIN_ESPAGNE_FOLDER, class_espagne_expected_outputs)\n",
    "\n",
    "class_france_expected_outputs = [0, 1, 0]\n",
    "dataset_test_for_france = import_dataset(TEST_FRANCE_FOLDER, class_france_expected_outputs)\n",
    "dataset_train_for_france = import_dataset(TRAIN_FRANCE_FOLDER, class_france_expected_outputs)\n",
    "\n",
    "class_japon_expected_outputs = [0, 0, 1]\n",
    "dataset_test_for_japon = import_dataset(TEST_JAPON_FOLDER, class_japon_expected_outputs)\n",
    "dataset_train_for_japon = import_dataset(TRAIN_JAPON_FOLDER, class_japon_expected_outputs)\n",
    "\n",
    "final_dataset_test = dataset_test_for_espagne + dataset_test_for_france + dataset_test_for_japon\n",
    "final_dataset_train = dataset_train_for_espagne + dataset_train_for_france + dataset_train_for_japon"
   ]
  },
  {
   "cell_type": "code",
   "execution_count": 7,
   "id": "307bc9cd",
   "metadata": {},
   "outputs": [],
   "source": [
    "for value in final_dataset_test:\n",
    "\n",
    "        the_image = value[\"value\"].tolist()\n",
    "        the_classe = value[\"classe\"]\n",
    "\n",
    "        x_test.append(the_image)\n",
    "        y_test.append(the_classe)\n",
    "\n",
    "for value in final_dataset_train:\n",
    "\n",
    "    the_image = value[\"value\"].tolist()\n",
    "    the_classe = value[\"classe\"]\n",
    "\n",
    "    x_train.append(the_image)\n",
    "    y_train.append(the_classe)"
   ]
  },
  {
   "cell_type": "code",
   "execution_count": null,
   "id": "1e6b1cda",
   "metadata": {},
   "outputs": [],
   "source": [
    "dataset_inputs = x_train\n",
    "dataset_outputs = y_train\n",
    "initiate_dataset_inputs_size = len(dataset_inputs[0])\n",
    "initiate_dataset_inputs_type = ctypes.c_float * initiate_dataset_inputs_size\n",
    "\n",
    "classes_initiate_dataset_inputs_size = initiate_dataset_inputs_size * 2"
   ]
  },
  {
   "cell_type": "code",
   "execution_count": null,
   "id": "58b5ed1a",
   "metadata": {},
   "outputs": [],
   "source": [
    "inputs_result = []\n",
    "\n",
    "for sublist in dataset_inputs:\n",
    "    for item in sublist:\n",
    "        inputs_result.append(item)\n",
    "\n",
    "dataset_inputs = inputs_result\n",
    "\n",
    "outputs_result = []\n",
    "\n",
    "for sublist in dataset_outputs:\n",
    "    for item in sublist:\n",
    "        outputs_result.append(item)\n",
    "\n",
    "dataset_outputs = outputs_result"
   ]
  },
  {
   "cell_type": "code",
   "execution_count": null,
   "id": "74fcca07",
   "metadata": {},
   "outputs": [],
   "source": [
    "arr = [1 ,3]\n",
    "arr_size = len(arr)\n",
    "arr_type = ctypes.c_int * arr_size"
   ]
  },
  {
   "cell_type": "code",
   "execution_count": null,
   "id": "67770da6",
   "metadata": {},
   "outputs": [],
   "source": [
    "# Create model\n",
    "MY_LIB.create_mlp_model.argtypes = [arr_type, ctypes.c_int]\n",
    "MY_LIB.create_mlp_model.restype = ctypes.c_void_p\n",
    "\n",
    "native_arr = arr_type(*arr)\n",
    "\n",
    "\n",
    "model_a = MY_LIB.create_mlp_model(native_arr, arr_size)"
   ]
  },
  {
   "cell_type": "code",
   "execution_count": null,
   "id": "1b93b926",
   "metadata": {},
   "outputs": [],
   "source": [
    "model_a"
   ]
  },
  {
   "cell_type": "code",
   "execution_count": null,
   "id": "7f2214a2",
   "metadata": {},
   "outputs": [],
   "source": [
    "path = \"..\\\\models\\\\cpplibrary_models\\\\\"\n",
    "a_path = path.encode('utf-8')\n",
    "\n",
    "name = \"a\"\n",
    "a_name = name.encode('utf-8')"
   ]
  },
  {
   "cell_type": "code",
   "execution_count": null,
   "id": "78c9028b",
   "metadata": {
    "scrolled": true
   },
   "outputs": [],
   "source": [
    "# Save model\n",
    "MY_LIB.save_mlp_model.argtypes = [ctypes.c_void_p, ctypes.c_char_p, ctypes.c_char_p]\n",
    "MY_LIB.save_mlp_model.restype = None\n",
    "MY_LIB.save_mlp_model(model_a, a_path, a_name)  "
   ]
  },
  {
   "cell_type": "code",
   "execution_count": null,
   "id": "03ef3aa3",
   "metadata": {},
   "outputs": [],
   "source": [
    "# Modèles (b) 1 couche de 8 neurones\n",
    "arr = [1, 8, 3]\n",
    "arr_size = len(arr)\n",
    "arr_type = ctypes.c_int * arr_size"
   ]
  },
  {
   "cell_type": "code",
   "execution_count": null,
   "id": "0f2cdd1b",
   "metadata": {},
   "outputs": [],
   "source": [
    "# Create model\n",
    "MY_LIB.create_mlp_model.argtypes = [arr_type, ctypes.c_int]\n",
    "MY_LIB.create_mlp_model.restype = ctypes.c_void_p\n",
    "\n",
    "native_arr = arr_type(*arr)\n",
    "\n",
    "model_b = MY_LIB.create_mlp_model(native_arr, arr_size)"
   ]
  },
  {
   "cell_type": "code",
   "execution_count": null,
   "id": "70e463a4",
   "metadata": {},
   "outputs": [],
   "source": [
    "model_b"
   ]
  },
  {
   "cell_type": "code",
   "execution_count": null,
   "id": "172986f2",
   "metadata": {},
   "outputs": [],
   "source": [
    "path = \"..\\\\models\\\\cpplibrary_models\\\\\"\n",
    "b_path = path.encode('utf-8')\n",
    "\n",
    "name = \"b\"\n",
    "b_name = name.encode('utf-8')"
   ]
  },
  {
   "cell_type": "code",
   "execution_count": null,
   "id": "431574e4",
   "metadata": {},
   "outputs": [],
   "source": [
    "# Save model\n",
    "MY_LIB.save_mlp_model.argtypes = [ctypes.c_void_p, ctypes.c_char_p, ctypes.c_char_p]\n",
    "MY_LIB.save_mlp_model.restype = None\n",
    "MY_LIB.save_mlp_model(model_b, b_path, b_name)  "
   ]
  },
  {
   "cell_type": "code",
   "execution_count": null,
   "id": "328f9cb9",
   "metadata": {},
   "outputs": [],
   "source": [
    "# Modèles (c) 1 couche de 32 neurones\n",
    "arr = [1, 32, 3]\n",
    "arr_size = len(arr)\n",
    "arr_type = ctypes.c_int * arr_size"
   ]
  },
  {
   "cell_type": "code",
   "execution_count": null,
   "id": "35def8fe",
   "metadata": {},
   "outputs": [],
   "source": [
    "# Create model\n",
    "MY_LIB.create_mlp_model.argtypes = [arr_type, ctypes.c_int]\n",
    "MY_LIB.create_mlp_model.restype = ctypes.c_void_p\n",
    "\n",
    "native_arr = arr_type(*arr)\n",
    "\n",
    "model_c = MY_LIB.create_mlp_model(native_arr, arr_size)"
   ]
  },
  {
   "cell_type": "code",
   "execution_count": null,
   "id": "710d0b03",
   "metadata": {},
   "outputs": [],
   "source": [
    "model_c"
   ]
  },
  {
   "cell_type": "code",
   "execution_count": null,
   "id": "a663c240",
   "metadata": {},
   "outputs": [],
   "source": [
    "path = \"..\\\\models\\\\cpplibrary_models\\\\\"\n",
    "c_path = path.encode('utf-8')\n",
    "\n",
    "name = \"c\"\n",
    "c_name = name.encode('utf-8')"
   ]
  },
  {
   "cell_type": "code",
   "execution_count": null,
   "id": "feb88c57",
   "metadata": {},
   "outputs": [],
   "source": [
    "# Save model\n",
    "MY_LIB.save_mlp_model.argtypes = [ctypes.c_void_p, ctypes.c_char_p, ctypes.c_char_p]\n",
    "MY_LIB.save_mlp_model.restype = None\n",
    "MY_LIB.save_mlp_model(model_c, c_path, c_name)  "
   ]
  },
  {
   "cell_type": "code",
   "execution_count": null,
   "id": "6e328b3f",
   "metadata": {},
   "outputs": [],
   "source": [
    "# Modèles (d) 2 couches de 32 neurones\n",
    "arr = [2, 32, 32, 3]\n",
    "arr_size = len(arr)\n",
    "arr_type = ctypes.c_int * arr_size"
   ]
  },
  {
   "cell_type": "code",
   "execution_count": null,
   "id": "64b4542d",
   "metadata": {},
   "outputs": [],
   "source": [
    "MY_LIB.create_mlp_model.argtypes = [arr_type, ctypes.c_int]\n",
    "MY_LIB.create_mlp_model.restype = ctypes.c_void_p\n",
    "\n",
    "native_arr = arr_type(*arr)\n",
    "\n",
    "model_d = MY_LIB.create_mlp_model(native_arr, arr_size)"
   ]
  },
  {
   "cell_type": "code",
   "execution_count": null,
   "id": "d3d9fc36",
   "metadata": {},
   "outputs": [],
   "source": [
    "model_d"
   ]
  },
  {
   "cell_type": "code",
   "execution_count": null,
   "id": "c1a6d1f2",
   "metadata": {},
   "outputs": [],
   "source": [
    "path = \"..\\\\models\\\\cpplibrary_models\\\\\"\n",
    "d_path = path.encode('utf-8')\n",
    "\n",
    "name = \"d\"\n",
    "d_name = name.encode('utf-8')"
   ]
  },
  {
   "cell_type": "code",
   "execution_count": null,
   "id": "8e4ac12e",
   "metadata": {},
   "outputs": [],
   "source": [
    "# Save model\n",
    "MY_LIB.save_mlp_model.argtypes = [ctypes.c_void_p, ctypes.c_char_p, ctypes.c_char_p]\n",
    "MY_LIB.save_mlp_model.restype = None\n",
    "MY_LIB.save_mlp_model(model_d, d_path, d_name)  "
   ]
  }
 ],
 "metadata": {
  "kernelspec": {
   "display_name": "Python 3 (ipykernel)",
   "language": "python",
   "name": "python3"
  },
  "language_info": {
   "codemirror_mode": {
    "name": "ipython",
    "version": 3
   },
   "file_extension": ".py",
   "mimetype": "text/x-python",
   "name": "python",
   "nbconvert_exporter": "python",
   "pygments_lexer": "ipython3",
   "version": "3.9.6"
  }
 },
 "nbformat": 4,
 "nbformat_minor": 5
}
