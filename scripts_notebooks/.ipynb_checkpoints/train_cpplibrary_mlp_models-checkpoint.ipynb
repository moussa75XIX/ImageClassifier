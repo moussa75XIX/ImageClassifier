{
 "cells": [
  {
   "cell_type": "code",
   "execution_count": 19,
   "id": "377bc8e1",
   "metadata": {},
   "outputs": [],
   "source": [
    "import os\n",
    "import ctypes\n",
    "import numpy as np\n",
    "from PIL import Image\n",
    "from keras.models import load_model"
   ]
  },
  {
   "cell_type": "code",
   "execution_count": 2,
   "id": "07ea8ae1",
   "metadata": {},
   "outputs": [],
   "source": [
    "MAIN_DATASET_FOLDER = \"..\\\\dataset\\\\\"\n",
    "\n",
    "TEST_SUBFOLDER = os.path.join(MAIN_DATASET_FOLDER, \"test\")\n",
    "TRAIN_SUBFOLDER = os.path.join(MAIN_DATASET_FOLDER, \"train\")\n",
    "\n",
    "TEST_ESPAGNE_FOLDER = os.path.join(TEST_SUBFOLDER, \"espagne\")\n",
    "TEST_FRANCE_FOLDER = os.path.join(TEST_SUBFOLDER, \"france\")\n",
    "TEST_JAPON_FOLDER = os.path.join(TEST_SUBFOLDER, \"japon\")\n",
    "\n",
    "TRAIN_ESPAGNE_FOLDER = os.path.join(TRAIN_SUBFOLDER, \"espagne\")\n",
    "TRAIN_FRANCE_FOLDER = os.path.join(TRAIN_SUBFOLDER, \"france\")\n",
    "TRAIN_JAPON_FOLDER = os.path.join(TRAIN_SUBFOLDER, \"japon\")\n",
    "\n",
    "PATH_TO_SHARED_LIBRARY = \"../library/cmake-build-debug/liblibrary\"\n",
    "MY_LIB = ctypes.CDLL(PATH_TO_SHARED_LIBRARY)"
   ]
  },
  {
   "cell_type": "code",
   "execution_count": 3,
   "id": "06cc2058",
   "metadata": {},
   "outputs": [],
   "source": [
    "def fill_x_and_y_with_images_and_labels(folder, classe, dataset):\n",
    "\n",
    "    for file in os.listdir(folder):\n",
    "\n",
    "        file_path = os.path.join(folder, file)\n",
    "        image = Image.open(file_path)\n",
    "        image = image.resize((8, 8))\n",
    "\n",
    "        im_arr = np.array(image).flatten()\n",
    "        im_arr = im_arr / 255.0\n",
    "\n",
    "        completed_dataset = {}\n",
    "        completed_dataset[\"value\"] = im_arr\n",
    "        completed_dataset[\"classe\"] = classe\n",
    "\n",
    "        dataset.append(completed_dataset.copy())"
   ]
  },
  {
   "cell_type": "code",
   "execution_count": 4,
   "id": "693ebec8",
   "metadata": {},
   "outputs": [],
   "source": [
    "def import_dataset(folder, classe):\n",
    "\n",
    "    dataset = []\n",
    "\n",
    "    fill_x_and_y_with_images_and_labels(folder, classe, dataset)\n",
    "\n",
    "    return dataset"
   ]
  },
  {
   "cell_type": "code",
   "execution_count": 5,
   "id": "14a2b58f",
   "metadata": {},
   "outputs": [],
   "source": [
    "x_test = []\n",
    "y_test = []\n",
    "\n",
    "x_train = []\n",
    "y_train = []\n",
    "\n",
    "class_espagne_expected_outputs = [1, 0, 0]\n",
    "dataset_test_for_espagne = import_dataset(TEST_ESPAGNE_FOLDER, class_espagne_expected_outputs)\n",
    "dataset_train_for_espagne = import_dataset(TRAIN_ESPAGNE_FOLDER, class_espagne_expected_outputs)\n",
    "\n",
    "class_france_expected_outputs = [0, 1, 0]\n",
    "dataset_test_for_france = import_dataset(TEST_FRANCE_FOLDER, class_france_expected_outputs)\n",
    "dataset_train_for_france = import_dataset(TRAIN_FRANCE_FOLDER, class_france_expected_outputs)\n",
    "\n",
    "class_japon_expected_outputs = [0, 0, 1]\n",
    "dataset_test_for_japon = import_dataset(TEST_JAPON_FOLDER, class_japon_expected_outputs)\n",
    "dataset_train_for_japon = import_dataset(TRAIN_JAPON_FOLDER, class_japon_expected_outputs)\n",
    "\n",
    "final_dataset_test = dataset_test_for_espagne + dataset_test_for_france + dataset_test_for_japon\n",
    "final_dataset_train = dataset_train_for_espagne + dataset_train_for_france + dataset_train_for_japon"
   ]
  },
  {
   "cell_type": "code",
   "execution_count": 6,
   "id": "a970282f",
   "metadata": {},
   "outputs": [],
   "source": [
    "for value in final_dataset_test:\n",
    "\n",
    "        the_image = value[\"value\"].tolist()\n",
    "        the_classe = value[\"classe\"]\n",
    "\n",
    "        x_test.append(the_image)\n",
    "        y_test.append(the_classe)\n",
    "\n",
    "for value in final_dataset_train:\n",
    "\n",
    "    the_image = value[\"value\"].tolist()\n",
    "    the_classe = value[\"classe\"]\n",
    "\n",
    "    x_train.append(the_image)\n",
    "    y_train.append(the_classe)"
   ]
  },
  {
   "cell_type": "code",
   "execution_count": 7,
   "id": "670b4d11",
   "metadata": {},
   "outputs": [],
   "source": [
    "dataset_inputs = x_train\n",
    "dataset_outputs = y_train\n",
    "initiate_dataset_inputs_size = len(dataset_inputs[0])\n",
    "initiate_dataset_inputs_type = ctypes.c_float * initiate_dataset_inputs_size\n",
    "\n",
    "classes_initiate_dataset_inputs_size = initiate_dataset_inputs_size * 2"
   ]
  },
  {
   "cell_type": "code",
   "execution_count": 8,
   "id": "7b399c94",
   "metadata": {},
   "outputs": [],
   "source": [
    "inputs_result = []\n",
    "\n",
    "for sublist in dataset_inputs:\n",
    "    for item in sublist:\n",
    "        inputs_result.append(item)\n",
    "\n",
    "dataset_inputs = inputs_result\n",
    "\n",
    "outputs_result = []\n",
    "\n",
    "for sublist in dataset_outputs:\n",
    "    for item in sublist:\n",
    "        outputs_result.append(item)\n",
    "\n",
    "dataset_outputs = outputs_result"
   ]
  },
  {
   "cell_type": "code",
   "execution_count": 23,
   "id": "cf1d17d2",
   "metadata": {},
   "outputs": [],
   "source": [
    "arr = [initiate_dataset_inputs_size, classes_initiate_dataset_inputs_size, 3]\n",
    "arr_size = len(arr)\n",
    "arr_type = ctypes.c_int * arr_size"
   ]
  },
  {
   "cell_type": "code",
   "execution_count": 29,
   "id": "4a8fd08e",
   "metadata": {
    "scrolled": true
   },
   "outputs": [],
   "source": [
    "# Load model\n",
    "MY_LIB.load_mlp_model.argtypes = [ctypes.c_char_p]\n",
    "MY_LIB.load_mlp_model.restype = ctypes.c_void_p\n",
    "\n",
    "filepath = \"..\\\\models\\\\cpplibrary_models\\\\train_mlp_model_26_08_2021_H23_M30_S20.json\"\n",
    "model = load_model(filepath, compile=True)"
   ]
  },
  {
   "cell_type": "code",
   "execution_count": 30,
   "id": "a4f9cbb3",
   "metadata": {},
   "outputs": [
    {
     "data": {
      "text/plain": [
       "<keras.engine.sequential.Sequential at 0x1971a591c70>"
      ]
     },
     "execution_count": 30,
     "metadata": {},
     "output_type": "execute_result"
    }
   ],
   "source": [
    "model"
   ]
  },
  {
   "cell_type": "code",
   "execution_count": null,
   "id": "7e11e99f",
   "metadata": {},
   "outputs": [],
   "source": []
  }
 ],
 "metadata": {
  "kernelspec": {
   "display_name": "Python 3",
   "language": "python",
   "name": "python3"
  },
  "language_info": {
   "codemirror_mode": {
    "name": "ipython",
    "version": 3
   },
   "file_extension": ".py",
   "mimetype": "text/x-python",
   "name": "python",
   "nbconvert_exporter": "python",
   "pygments_lexer": "ipython3",
   "version": "3.9.4"
  }
 },
 "nbformat": 4,
 "nbformat_minor": 5
}
