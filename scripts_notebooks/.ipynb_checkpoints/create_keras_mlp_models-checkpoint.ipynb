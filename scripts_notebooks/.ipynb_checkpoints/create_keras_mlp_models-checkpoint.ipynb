{
 "cells": [
  {
   "cell_type": "code",
   "execution_count": 1,
   "id": "e453b265",
   "metadata": {},
   "outputs": [],
   "source": [
    "import tensorflow as tf\n",
    "import datetime\n",
    "import os\n",
    "import numpy as np\n",
    "import ctypes\n",
    "from PIL import Image"
   ]
  },
  {
   "cell_type": "code",
   "execution_count": 2,
   "id": "ab1c97a5",
   "metadata": {},
   "outputs": [],
   "source": [
    "#### ------------------------------------------- ####\n",
    "#### ------------- LOAD THE DATA --------------- ####\n",
    "#### ------------------------------------------- ####"
   ]
  },
  {
   "cell_type": "code",
   "execution_count": 3,
   "id": "5488609d",
   "metadata": {},
   "outputs": [],
   "source": [
    "MAIN_DATASET_FOLDER = \"..\\\\dataset\\\\\"\n",
    "\n",
    "TEST_SUBFOLDER = os.path.join(MAIN_DATASET_FOLDER, \"test\")\n",
    "TRAIN_SUBFOLDER = os.path.join(MAIN_DATASET_FOLDER, \"train\")\n",
    "\n",
    "TEST_ESPAGNE_FOLDER = os.path.join(TEST_SUBFOLDER, \"espagne\")\n",
    "TEST_FRANCE_FOLDER = os.path.join(TEST_SUBFOLDER, \"france\")\n",
    "TEST_JAPON_FOLDER = os.path.join(TEST_SUBFOLDER, \"japon\")\n",
    "\n",
    "TRAIN_ESPAGNE_FOLDER = os.path.join(TRAIN_SUBFOLDER, \"espagne\")\n",
    "TRAIN_FRANCE_FOLDER = os.path.join(TRAIN_SUBFOLDER, \"france\")\n",
    "TRAIN_JAPON_FOLDER = os.path.join(TRAIN_SUBFOLDER, \"japon\")\n"
   ]
  },
  {
   "cell_type": "code",
   "execution_count": 4,
   "id": "5b1fe8d5",
   "metadata": {},
   "outputs": [],
   "source": [
    "def fill_x_and_y_with_images_and_labels(folder, classe, dataset):\n",
    "\n",
    "    for file in os.listdir(folder):\n",
    "\n",
    "        file_path = os.path.join(folder, file)\n",
    "        image = Image.open(file_path)\n",
    "        image = image.resize((64, 64))\n",
    "        if image.mode in (\"RGB\", \"P\"): image = image.convert(\"RGBA\")\n",
    "        im_arr = np.array(image).flatten()\n",
    "        im_arr = im_arr / 255.0\n",
    "\n",
    "        completed_dataset = {}\n",
    "        completed_dataset[\"value\"] = im_arr\n",
    "        completed_dataset[\"classe\"] = classe\n",
    "\n",
    "        dataset.append(completed_dataset.copy())"
   ]
  },
  {
   "cell_type": "code",
   "execution_count": 5,
   "id": "52f794d7",
   "metadata": {},
   "outputs": [],
   "source": [
    "def fill_x_and_y_with_images_and_labels(folder, classe, dataset):\n",
    "\n",
    "    for file in os.listdir(folder):\n",
    "\n",
    "        file_path = os.path.join(folder, file)\n",
    "        image = Image.open(file_path)\n",
    "        image = image.resize((64, 64))\n",
    "        if image.mode in (\"RGB\", \"P\"): image = image.convert(\"RGBA\")\n",
    "        im_arr = np.array(image).flatten()\n",
    "        im_arr = im_arr / 255.0\n",
    "\n",
    "        completed_dataset = {}\n",
    "        completed_dataset[\"value\"] = im_arr\n",
    "        completed_dataset[\"classe\"] = classe\n",
    "\n",
    "        dataset.append(completed_dataset.copy())"
   ]
  },
  {
   "cell_type": "code",
   "execution_count": 6,
   "id": "15602093",
   "metadata": {},
   "outputs": [],
   "source": [
    "def import_dataset(folder, classe):\n",
    "\n",
    "    dataset = []\n",
    "\n",
    "    fill_x_and_y_with_images_and_labels(folder, classe, dataset)\n",
    "\n",
    "    return dataset"
   ]
  },
  {
   "cell_type": "code",
   "execution_count": 7,
   "id": "836c5dd4",
   "metadata": {},
   "outputs": [],
   "source": [
    "x_test = []\n",
    "y_test = []\n",
    "\n",
    "x_train = []\n",
    "y_train = []\n",
    "\n",
    "class_espagne_expected_outputs = [1, 0, 0]\n",
    "dataset_test_for_espagne = import_dataset(TEST_ESPAGNE_FOLDER, class_espagne_expected_outputs)\n",
    "dataset_train_for_espagne = import_dataset(TRAIN_ESPAGNE_FOLDER, class_espagne_expected_outputs)\n",
    "\n",
    "class_france_expected_outputs = [0, 1, 0]\n",
    "dataset_test_for_france = import_dataset(TEST_FRANCE_FOLDER, class_france_expected_outputs)\n",
    "dataset_train_for_france = import_dataset(TRAIN_FRANCE_FOLDER, class_france_expected_outputs)\n",
    "\n",
    "class_japon_expected_outputs = [0, 0, 1]\n",
    "dataset_test_for_japon = import_dataset(TEST_JAPON_FOLDER, class_japon_expected_outputs)\n",
    "dataset_train_for_japon = import_dataset(TRAIN_JAPON_FOLDER, class_japon_expected_outputs)\n",
    "\n",
    "final_dataset_test = dataset_test_for_espagne + dataset_test_for_france + dataset_test_for_japon\n",
    "final_dataset_train = dataset_train_for_espagne + dataset_train_for_france + dataset_train_for_japon"
   ]
  },
  {
   "cell_type": "code",
   "execution_count": 8,
   "id": "c653cf1c",
   "metadata": {},
   "outputs": [],
   "source": [
    "for value in final_dataset_test:\n",
    "\n",
    "    the_image = value[\"value\"].tolist()\n",
    "    the_classe = value[\"classe\"]\n",
    "\n",
    "    x_test.append(the_image)\n",
    "    y_test.append(the_classe)\n",
    "\n",
    "for value in final_dataset_train:\n",
    "\n",
    "    the_image = value[\"value\"].tolist()\n",
    "    the_classe = value[\"classe\"]\n",
    "\n",
    "    x_train.append(the_image)\n",
    "    y_train.append(the_classe)\n",
    "\n",
    "dataset_inputs = x_train\n",
    "dataset_outputs = y_train\n",
    "\n",
    "initiate_dataset_inputs_size = len(dataset_inputs[0])\n",
    "initiate_dataset_inputs_type = ctypes.c_float * initiate_dataset_inputs_size\n",
    "\n",
    "classes_initiate_dataset_inputs_size = initiate_dataset_inputs_size * 2"
   ]
  },
  {
   "cell_type": "code",
   "execution_count": 9,
   "id": "3d7e1c8e",
   "metadata": {},
   "outputs": [],
   "source": [
    "inputs_result = []\n",
    "\n",
    "for sublist in dataset_inputs:\n",
    "    for item in sublist:\n",
    "        inputs_result.append(item)\n",
    "\n",
    "dataset_inputs = inputs_result\n",
    "\n",
    "outputs_result = []\n",
    "\n",
    "for sublist in dataset_outputs:\n",
    "    for item in sublist:\n",
    "        outputs_result.append(item)\n",
    "\n",
    "dataset_outputs = outputs_result\n",
    "\n",
    "arr = [initiate_dataset_inputs_size, classes_initiate_dataset_inputs_size, 3]\n",
    "arr_size = len(arr)\n",
    "arr_type = ctypes.c_int * arr_size"
   ]
  },
  {
   "cell_type": "code",
   "execution_count": 10,
   "id": "1add4201",
   "metadata": {},
   "outputs": [],
   "source": [
    "# Convert train/test to array\n",
    "x_train = np.array(x_train)\n",
    "y_train = np.array(y_train)\n",
    "x_test = np.array(x_test)\n",
    "y_test = np.array(y_test)"
   ]
  },
  {
   "cell_type": "code",
   "execution_count": 11,
   "id": "4a084249",
   "metadata": {},
   "outputs": [],
   "source": [
    "#### -------------------------------------------- ####\n",
    "#### ---------------- DEFINE MODELS ------------- #### \n",
    "#### -------------------------------------------- ####"
   ]
  },
  {
   "cell_type": "code",
   "execution_count": 12,
   "id": "20537aa1",
   "metadata": {},
   "outputs": [],
   "source": [
    "def create_PMC_sans_couche_cachees():\n",
    "    return tf.keras.models.Sequential([\n",
    "        tf.keras.layers.Input(shape=x_train.shape[1:]), # input layer\n",
    "        tf.keras.layers.Dense(3, activation='softmax') # output layer\n",
    "      ])\n",
    "\n",
    "\n",
    "def create_PMC_une_couche_8():\n",
    "    return tf.keras.models.Sequential([\n",
    "        tf.keras.layers.Input(shape=x_train.shape[1:]), # input layer\n",
    "        tf.keras.layers.Dense(8, activation='relu'), # hidden layer 1\n",
    "        tf.keras.layers.Dense(3, activation='softmax') # output layer\n",
    "      ])\n",
    "\n",
    "\n",
    "def create_PMC_une_couche_32():\n",
    "    return tf.keras.models.Sequential([\n",
    "        tf.keras.layers.Input(shape=x_train.shape[1:]), # input layer\n",
    "        tf.keras.layers.Dense(32, activation='relu'), # hidden layer 1\n",
    "        tf.keras.layers.Dense(3, activation='softmax') # output layer\n",
    "      ])\n",
    "\n",
    "\n",
    "def create_PMC_deux_couches_32_32():\n",
    "    return tf.keras.models.Sequential([\n",
    "        tf.keras.layers.Input(shape=x_train.shape[1:]), # input layer\n",
    "        tf.keras.layers.Dense(32, activation='relu'), # hidden layer 1\n",
    "        tf.keras.layers.Dense(32, activation='relu'), # hidden layer 2\n",
    "        tf.keras.layers.Dense(3, activation='softmax') # output layer\n",
    "      ])\n"
   ]
  },
  {
   "cell_type": "code",
   "execution_count": 17,
   "id": "d58704ff",
   "metadata": {},
   "outputs": [
    {
     "name": "stdout",
     "output_type": "stream",
     "text": [
      "WARNING:tensorflow:Please add `keras.layers.InputLayer` instead of `keras.Input` to Sequential model. `keras.Input` is intended to be used by Functional model.\n",
      "Model: \"sequential\"\n",
      "_________________________________________________________________\n",
      "Layer (type)                 Output Shape              Param #   \n",
      "=================================================================\n",
      "dense (Dense)                (None, 3)                 49155     \n",
      "=================================================================\n",
      "Total params: 49,155\n",
      "Trainable params: 49,155\n",
      "Non-trainable params: 0\n",
      "_________________________________________________________________\n"
     ]
    }
   ],
   "source": [
    "# Modèles (a) sans couches cachées\n",
    "model_pmc_a = create_PMC_sans_couche_cachees()\n",
    "model_pmc_a.summary()"
   ]
  },
  {
   "cell_type": "code",
   "execution_count": 13,
   "id": "3efd0a1b",
   "metadata": {
    "scrolled": true
   },
   "outputs": [
    {
     "name": "stdout",
     "output_type": "stream",
     "text": [
      "WARNING:tensorflow:Please add `keras.layers.InputLayer` instead of `keras.Input` to Sequential model. `keras.Input` is intended to be used by Functional model.\n",
      "Model: \"sequential\"\n",
      "_________________________________________________________________\n",
      "Layer (type)                 Output Shape              Param #   \n",
      "=================================================================\n",
      "dense (Dense)                (None, 8)                 131080    \n",
      "_________________________________________________________________\n",
      "dense_1 (Dense)              (None, 3)                 27        \n",
      "=================================================================\n",
      "Total params: 131,107\n",
      "Trainable params: 131,107\n",
      "Non-trainable params: 0\n",
      "_________________________________________________________________\n"
     ]
    }
   ],
   "source": [
    "# Modèles (b) 1 couche de 8 neurones\n",
    "model_pmc_b = create_PMC_une_couche_8()\n",
    "model_pmc_b.summary()"
   ]
  },
  {
   "cell_type": "code",
   "execution_count": 14,
   "id": "b1c41992",
   "metadata": {},
   "outputs": [
    {
     "name": "stdout",
     "output_type": "stream",
     "text": [
      "WARNING:tensorflow:Please add `keras.layers.InputLayer` instead of `keras.Input` to Sequential model. `keras.Input` is intended to be used by Functional model.\n",
      "Model: \"sequential_1\"\n",
      "_________________________________________________________________\n",
      "Layer (type)                 Output Shape              Param #   \n",
      "=================================================================\n",
      "dense_2 (Dense)              (None, 32)                524320    \n",
      "_________________________________________________________________\n",
      "dense_3 (Dense)              (None, 3)                 99        \n",
      "=================================================================\n",
      "Total params: 524,419\n",
      "Trainable params: 524,419\n",
      "Non-trainable params: 0\n",
      "_________________________________________________________________\n"
     ]
    }
   ],
   "source": [
    "# Modèles (c) 1 couche de 32 neurones\n",
    "model_pmc_c = create_PMC_une_couche_32()\n",
    "model_pmc_c.summary()"
   ]
  },
  {
   "cell_type": "code",
   "execution_count": 15,
   "id": "6430c192",
   "metadata": {
    "scrolled": false
   },
   "outputs": [
    {
     "name": "stdout",
     "output_type": "stream",
     "text": [
      "WARNING:tensorflow:Please add `keras.layers.InputLayer` instead of `keras.Input` to Sequential model. `keras.Input` is intended to be used by Functional model.\n",
      "Model: \"sequential_2\"\n",
      "_________________________________________________________________\n",
      "Layer (type)                 Output Shape              Param #   \n",
      "=================================================================\n",
      "dense_4 (Dense)              (None, 32)                524320    \n",
      "_________________________________________________________________\n",
      "dense_5 (Dense)              (None, 32)                1056      \n",
      "_________________________________________________________________\n",
      "dense_6 (Dense)              (None, 3)                 99        \n",
      "=================================================================\n",
      "Total params: 525,475\n",
      "Trainable params: 525,475\n",
      "Non-trainable params: 0\n",
      "_________________________________________________________________\n"
     ]
    }
   ],
   "source": [
    "# Modèles (d) 2 couches de 32 neurones\n",
    "model_pmc_d = create_PMC_deux_couches_32_32()\n",
    "model_pmc_d.summary()"
   ]
  },
  {
   "cell_type": "code",
   "execution_count": 16,
   "id": "efaac072",
   "metadata": {},
   "outputs": [
    {
     "name": "stdout",
     "output_type": "stream",
     "text": [
      "WARNING:tensorflow:Compiled the loaded model, but the compiled metrics have yet to be built. `model.compile_metrics` will be empty until you train or evaluate the model.\n",
      "WARNING:tensorflow:Compiled the loaded model, but the compiled metrics have yet to be built. `model.compile_metrics` will be empty until you train or evaluate the model.\n",
      "WARNING:tensorflow:Compiled the loaded model, but the compiled metrics have yet to be built. `model.compile_metrics` will be empty until you train or evaluate the model.\n"
     ]
    }
   ],
   "source": [
    "model_pmc_a.save(\"../models/keras_models/model_a.h5\")\n",
    "model_pmc_b.save(\"../models/keras_models/model_b.h5\")\n",
    "model_pmc_c.save(\"../models/keras_models/model_c.h5\")\n",
    "model_pmc_d.save(\"../models/keras_models/model_d.h5\")"
   ]
  },
  {
   "cell_type": "code",
   "execution_count": null,
   "id": "f6fe1393",
   "metadata": {},
   "outputs": [],
   "source": []
  }
 ],
 "metadata": {
  "kernelspec": {
   "display_name": "Python 3 (ipykernel)",
   "language": "python",
   "name": "python3"
  },
  "language_info": {
   "codemirror_mode": {
    "name": "ipython",
    "version": 3
   },
   "file_extension": ".py",
   "mimetype": "text/x-python",
   "name": "python",
   "nbconvert_exporter": "python",
   "pygments_lexer": "ipython3",
   "version": "3.9.6"
  }
 },
 "nbformat": 4,
 "nbformat_minor": 5
}
