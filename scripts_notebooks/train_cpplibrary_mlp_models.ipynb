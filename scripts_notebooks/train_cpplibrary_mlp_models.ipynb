{
 "cells": [
  {
   "cell_type": "code",
   "execution_count": 1,
   "id": "5a8b375a",
   "metadata": {},
   "outputs": [],
   "source": [
    "import os\n",
    "import ctypes\n",
    "import numpy as np\n",
    "from PIL import Image\n",
    "from keras.models import load_model"
   ]
  },
  {
   "cell_type": "code",
   "execution_count": 2,
   "id": "8ec26301",
   "metadata": {},
   "outputs": [],
   "source": [
    "MAIN_DATASET_FOLDER = \"..\\\\dataset\\\\\"\n",
    "\n",
    "TEST_SUBFOLDER = os.path.join(MAIN_DATASET_FOLDER, \"test\")\n",
    "TRAIN_SUBFOLDER = os.path.join(MAIN_DATASET_FOLDER, \"train\")\n",
    "\n",
    "TEST_ESPAGNE_FOLDER = os.path.join(TEST_SUBFOLDER, \"espagne\")\n",
    "TEST_FRANCE_FOLDER = os.path.join(TEST_SUBFOLDER, \"france\")\n",
    "TEST_JAPON_FOLDER = os.path.join(TEST_SUBFOLDER, \"japon\")\n",
    "\n",
    "TRAIN_ESPAGNE_FOLDER = os.path.join(TRAIN_SUBFOLDER, \"espagne\")\n",
    "TRAIN_FRANCE_FOLDER = os.path.join(TRAIN_SUBFOLDER, \"france\")\n",
    "TRAIN_JAPON_FOLDER = os.path.join(TRAIN_SUBFOLDER, \"japon\")\n",
    "\n",
    "PATH_TO_SHARED_LIBRARY = \"../library/cmake-build-debug/liblibrary\"\n",
    "MY_LIB = ctypes.CDLL(PATH_TO_SHARED_LIBRARY)"
   ]
  },
  {
   "cell_type": "code",
   "execution_count": 3,
   "id": "81d3fac8",
   "metadata": {},
   "outputs": [],
   "source": [
    "def fill_x_and_y_with_images_and_labels(folder, classe, dataset):\n",
    "\n",
    "    for file in os.listdir(folder):\n",
    "\n",
    "        file_path = os.path.join(folder, file)\n",
    "        image = Image.open(file_path)\n",
    "        image = image.resize((8, 8))\n",
    "\n",
    "        im_arr = np.array(image).flatten()\n",
    "        im_arr = im_arr / 255.0\n",
    "\n",
    "        completed_dataset = {}\n",
    "        completed_dataset[\"value\"] = im_arr\n",
    "        completed_dataset[\"classe\"] = classe\n",
    "\n",
    "        dataset.append(completed_dataset.copy())"
   ]
  },
  {
   "cell_type": "code",
   "execution_count": 4,
   "id": "48bd21b8",
   "metadata": {},
   "outputs": [],
   "source": [
    "def import_dataset(folder, classe):\n",
    "\n",
    "    dataset = []\n",
    "\n",
    "    fill_x_and_y_with_images_and_labels(folder, classe, dataset)\n",
    "\n",
    "    return dataset"
   ]
  },
  {
   "cell_type": "code",
   "execution_count": 5,
   "id": "7c0d0ca1",
   "metadata": {},
   "outputs": [],
   "source": [
    "x_test = []\n",
    "y_test = []\n",
    "\n",
    "x_train = []\n",
    "y_train = []\n",
    "\n",
    "class_espagne_expected_outputs = [1, 0, 0]\n",
    "dataset_test_for_espagne = import_dataset(TEST_ESPAGNE_FOLDER, class_espagne_expected_outputs)\n",
    "dataset_train_for_espagne = import_dataset(TRAIN_ESPAGNE_FOLDER, class_espagne_expected_outputs)\n",
    "\n",
    "class_france_expected_outputs = [0, 1, 0]\n",
    "dataset_test_for_france = import_dataset(TEST_FRANCE_FOLDER, class_france_expected_outputs)\n",
    "dataset_train_for_france = import_dataset(TRAIN_FRANCE_FOLDER, class_france_expected_outputs)\n",
    "\n",
    "class_japon_expected_outputs = [0, 0, 1]\n",
    "dataset_test_for_japon = import_dataset(TEST_JAPON_FOLDER, class_japon_expected_outputs)\n",
    "dataset_train_for_japon = import_dataset(TRAIN_JAPON_FOLDER, class_japon_expected_outputs)\n",
    "\n",
    "final_dataset_test = dataset_test_for_espagne + dataset_test_for_france + dataset_test_for_japon\n",
    "final_dataset_train = dataset_train_for_espagne + dataset_train_for_france + dataset_train_for_japon"
   ]
  },
  {
   "cell_type": "code",
   "execution_count": 6,
   "id": "ff89c6f6",
   "metadata": {},
   "outputs": [],
   "source": [
    "for value in final_dataset_test:\n",
    "\n",
    "        the_image = value[\"value\"].tolist()\n",
    "        the_classe = value[\"classe\"]\n",
    "\n",
    "        x_test.append(the_image)\n",
    "        y_test.append(the_classe)\n",
    "\n",
    "for value in final_dataset_train:\n",
    "\n",
    "    the_image = value[\"value\"].tolist()\n",
    "    the_classe = value[\"classe\"]\n",
    "\n",
    "    x_train.append(the_image)\n",
    "    y_train.append(the_classe)"
   ]
  },
  {
   "cell_type": "code",
   "execution_count": 7,
   "id": "e5f7d2ad",
   "metadata": {},
   "outputs": [],
   "source": [
    "dataset_inputs = x_train\n",
    "dataset_outputs = y_train\n",
    "initiate_dataset_inputs_size = len(dataset_inputs[0])\n",
    "initiate_dataset_inputs_type = ctypes.c_float * initiate_dataset_inputs_size\n",
    "\n",
    "classes_initiate_dataset_inputs_size = initiate_dataset_inputs_size * 2"
   ]
  },
  {
   "cell_type": "code",
   "execution_count": 8,
   "id": "af5c1c81",
   "metadata": {},
   "outputs": [],
   "source": [
    "inputs_result = []\n",
    "\n",
    "for sublist in dataset_inputs:\n",
    "    for item in sublist:\n",
    "        inputs_result.append(item)\n",
    "\n",
    "dataset_inputs = inputs_result\n",
    "\n",
    "outputs_result = []\n",
    "\n",
    "for sublist in dataset_outputs:\n",
    "    for item in sublist:\n",
    "        outputs_result.append(item)\n",
    "\n",
    "dataset_outputs = outputs_result"
   ]
  },
  {
   "cell_type": "code",
   "execution_count": 9,
   "id": "680e1954",
   "metadata": {},
   "outputs": [],
   "source": [
    "arr = [initiate_dataset_inputs_size, classes_initiate_dataset_inputs_size, 3]\n",
    "arr_size = len(arr)\n",
    "arr_type = ctypes.c_int * arr_size"
   ]
  },
  {
   "cell_type": "code",
   "execution_count": 10,
   "id": "d65bc780",
   "metadata": {},
   "outputs": [],
   "source": [
    "# Load model\n",
    "MY_LIB.load_mlp_model.argtypes = [ctypes.c_char_p]\n",
    "MY_LIB.load_mlp_model.restype = ctypes.c_void_p\n",
    "\n",
    "filepath = \"..\\\\models\\\\cpplibrary_models\\\\model_a.json\"\n",
    "filepath = filepath.encode('utf-8')\n",
    "model = MY_LIB.load_mlp_model(filepath)"
   ]
  },
  {
   "cell_type": "code",
   "execution_count": 12,
   "id": "d1d52175",
   "metadata": {
    "scrolled": false
   },
   "outputs": [
    {
     "data": {
      "text/plain": [
       "2191306846000"
      ]
     },
     "execution_count": 12,
     "metadata": {},
     "output_type": "execute_result"
    }
   ],
   "source": [
    "model"
   ]
  },
  {
   "cell_type": "code",
   "execution_count": 20,
   "id": "3ea6c453",
   "metadata": {},
   "outputs": [],
   "source": [
    "dataset_inputs_size = len(dataset_inputs)\n",
    "dataset_outputs_size = len(dataset_outputs)\n",
    "\n",
    "dataset_inputs_type = ctypes.c_float * dataset_inputs_size\n",
    "dataset_outputs_type = ctypes.c_float * dataset_outputs_size"
   ]
  },
  {
   "cell_type": "code",
   "execution_count": 21,
   "id": "fbfe05b4",
   "metadata": {},
   "outputs": [],
   "source": [
    "MY_LIB.train_classification_stochastic_backprop_mlp_model.argtypes = [ctypes.c_void_p, dataset_inputs_type,\n",
    "                                                                          ctypes.c_int,\n",
    "                                                                          dataset_outputs_type,\n",
    "                                                                          ctypes.c_int, ctypes.c_float, ctypes.c_int]\n",
    "\n",
    "MY_LIB.train_classification_stochastic_backprop_mlp_model.restype = None"
   ]
  },
  {
   "cell_type": "code",
   "execution_count": 24,
   "id": "2a10115a",
   "metadata": {},
   "outputs": [
    {
     "ename": "AttributeError",
     "evalue": "function 'train_stochastic_gradient_backpropagation' not found",
     "output_type": "error",
     "traceback": [
      "\u001b[1;31m---------------------------------------------------------------------------\u001b[0m",
      "\u001b[1;31mAttributeError\u001b[0m                            Traceback (most recent call last)",
      "\u001b[1;32m<ipython-input-24-c7177fedc126>\u001b[0m in \u001b[0;36m<module>\u001b[1;34m\u001b[0m\n\u001b[0;32m      2\u001b[0m \u001b[0mnative_dataset_outputs\u001b[0m \u001b[1;33m=\u001b[0m \u001b[0mdataset_outputs_type\u001b[0m\u001b[1;33m(\u001b[0m\u001b[1;33m*\u001b[0m\u001b[0mdataset_outputs\u001b[0m\u001b[1;33m)\u001b[0m\u001b[1;33m\u001b[0m\u001b[1;33m\u001b[0m\u001b[0m\n\u001b[0;32m      3\u001b[0m \u001b[1;33m\u001b[0m\u001b[0m\n\u001b[1;32m----> 4\u001b[1;33m MY_LIB.train_stochastic_gradient_backpropagation(model, native_dataset_inputs, dataset_inputs_size,\n\u001b[0m\u001b[0;32m      5\u001b[0m                                                           \u001b[0mnative_dataset_outputs\u001b[0m\u001b[1;33m,\u001b[0m \u001b[0mdataset_outputs_size\u001b[0m\u001b[1;33m,\u001b[0m \u001b[1;36m0.001\u001b[0m\u001b[1;33m,\u001b[0m\u001b[1;33m\u001b[0m\u001b[1;33m\u001b[0m\u001b[0m\n\u001b[0;32m      6\u001b[0m                                                           100000)\n",
      "\u001b[1;32m~\\anaconda3\\envs\\tf25\\lib\\ctypes\\__init__.py\u001b[0m in \u001b[0;36m__getattr__\u001b[1;34m(self, name)\u001b[0m\n\u001b[0;32m    393\u001b[0m         \u001b[1;32mif\u001b[0m \u001b[0mname\u001b[0m\u001b[1;33m.\u001b[0m\u001b[0mstartswith\u001b[0m\u001b[1;33m(\u001b[0m\u001b[1;34m'__'\u001b[0m\u001b[1;33m)\u001b[0m \u001b[1;32mand\u001b[0m \u001b[0mname\u001b[0m\u001b[1;33m.\u001b[0m\u001b[0mendswith\u001b[0m\u001b[1;33m(\u001b[0m\u001b[1;34m'__'\u001b[0m\u001b[1;33m)\u001b[0m\u001b[1;33m:\u001b[0m\u001b[1;33m\u001b[0m\u001b[1;33m\u001b[0m\u001b[0m\n\u001b[0;32m    394\u001b[0m             \u001b[1;32mraise\u001b[0m \u001b[0mAttributeError\u001b[0m\u001b[1;33m(\u001b[0m\u001b[0mname\u001b[0m\u001b[1;33m)\u001b[0m\u001b[1;33m\u001b[0m\u001b[1;33m\u001b[0m\u001b[0m\n\u001b[1;32m--> 395\u001b[1;33m         \u001b[0mfunc\u001b[0m \u001b[1;33m=\u001b[0m \u001b[0mself\u001b[0m\u001b[1;33m.\u001b[0m\u001b[0m__getitem__\u001b[0m\u001b[1;33m(\u001b[0m\u001b[0mname\u001b[0m\u001b[1;33m)\u001b[0m\u001b[1;33m\u001b[0m\u001b[1;33m\u001b[0m\u001b[0m\n\u001b[0m\u001b[0;32m    396\u001b[0m         \u001b[0msetattr\u001b[0m\u001b[1;33m(\u001b[0m\u001b[0mself\u001b[0m\u001b[1;33m,\u001b[0m \u001b[0mname\u001b[0m\u001b[1;33m,\u001b[0m \u001b[0mfunc\u001b[0m\u001b[1;33m)\u001b[0m\u001b[1;33m\u001b[0m\u001b[1;33m\u001b[0m\u001b[0m\n\u001b[0;32m    397\u001b[0m         \u001b[1;32mreturn\u001b[0m \u001b[0mfunc\u001b[0m\u001b[1;33m\u001b[0m\u001b[1;33m\u001b[0m\u001b[0m\n",
      "\u001b[1;32m~\\anaconda3\\envs\\tf25\\lib\\ctypes\\__init__.py\u001b[0m in \u001b[0;36m__getitem__\u001b[1;34m(self, name_or_ordinal)\u001b[0m\n\u001b[0;32m    398\u001b[0m \u001b[1;33m\u001b[0m\u001b[0m\n\u001b[0;32m    399\u001b[0m     \u001b[1;32mdef\u001b[0m \u001b[0m__getitem__\u001b[0m\u001b[1;33m(\u001b[0m\u001b[0mself\u001b[0m\u001b[1;33m,\u001b[0m \u001b[0mname_or_ordinal\u001b[0m\u001b[1;33m)\u001b[0m\u001b[1;33m:\u001b[0m\u001b[1;33m\u001b[0m\u001b[1;33m\u001b[0m\u001b[0m\n\u001b[1;32m--> 400\u001b[1;33m         \u001b[0mfunc\u001b[0m \u001b[1;33m=\u001b[0m \u001b[0mself\u001b[0m\u001b[1;33m.\u001b[0m\u001b[0m_FuncPtr\u001b[0m\u001b[1;33m(\u001b[0m\u001b[1;33m(\u001b[0m\u001b[0mname_or_ordinal\u001b[0m\u001b[1;33m,\u001b[0m \u001b[0mself\u001b[0m\u001b[1;33m)\u001b[0m\u001b[1;33m)\u001b[0m\u001b[1;33m\u001b[0m\u001b[1;33m\u001b[0m\u001b[0m\n\u001b[0m\u001b[0;32m    401\u001b[0m         \u001b[1;32mif\u001b[0m \u001b[1;32mnot\u001b[0m \u001b[0misinstance\u001b[0m\u001b[1;33m(\u001b[0m\u001b[0mname_or_ordinal\u001b[0m\u001b[1;33m,\u001b[0m \u001b[0mint\u001b[0m\u001b[1;33m)\u001b[0m\u001b[1;33m:\u001b[0m\u001b[1;33m\u001b[0m\u001b[1;33m\u001b[0m\u001b[0m\n\u001b[0;32m    402\u001b[0m             \u001b[0mfunc\u001b[0m\u001b[1;33m.\u001b[0m\u001b[0m__name__\u001b[0m \u001b[1;33m=\u001b[0m \u001b[0mname_or_ordinal\u001b[0m\u001b[1;33m\u001b[0m\u001b[1;33m\u001b[0m\u001b[0m\n",
      "\u001b[1;31mAttributeError\u001b[0m: function 'train_stochastic_gradient_backpropagation' not found"
     ]
    }
   ],
   "source": [
    "native_dataset_inputs = dataset_inputs_type(*dataset_inputs)\n",
    "native_dataset_outputs = dataset_outputs_type(*dataset_outputs)\n",
    "\n",
    "MY_LIB.train_stochastic_gradient_backpropagation(model, native_dataset_inputs, dataset_inputs_size,\n",
    "                                                          native_dataset_outputs, dataset_outputs_size, 0.001,\n",
    "                                                          100000)"
   ]
  },
  {
   "cell_type": "code",
   "execution_count": 77,
   "id": "50b7bfb8",
   "metadata": {},
   "outputs": [],
   "source": [
    "predicted_values = []\n",
    "\n",
    "for p in x_train:\n",
    "\n",
    "    MY_LIB.predict_mlp_model_classification.argtypes = [ctypes.c_void_p, initiate_dataset_inputs_type, ctypes.c_int]\n",
    "    MY_LIB.predict_mlp_model_classification.restype = ctypes.POINTER(ctypes.c_float)\n",
    "\n",
    "    native_p = initiate_dataset_inputs_type(*p)\n",
    "\n",
    "    predict = MY_LIB.predict_mlp_model_classification(model, native_p, initiate_dataset_inputs_size)\n",
    "\n",
    "    tab_predict = []"
   ]
  },
  {
   "cell_type": "code",
   "execution_count": 78,
   "id": "75dd7e59",
   "metadata": {},
   "outputs": [],
   "source": [
    "for q in range(3):\n",
    "        tab_predict.append(predict[q])\n",
    "predicted_values.append(tab_predict)"
   ]
  },
  {
   "cell_type": "code",
   "execution_count": 79,
   "id": "8c0a7adf",
   "metadata": {},
   "outputs": [],
   "source": [
    "path = \"..\\\\models\\\\cpplibrary_models\\\\\"\n",
    "b_path = path.encode('utf-8')\n",
    "\n",
    "name = \"a\"\n",
    "b_name = name.encode('utf-8')"
   ]
  },
  {
   "cell_type": "code",
   "execution_count": 80,
   "id": "ac836273",
   "metadata": {},
   "outputs": [],
   "source": [
    "# Save model\n",
    "MY_LIB.save_mlp_model.argtypes = [ctypes.c_void_p, ctypes.c_char_p, ctypes.c_char_p]\n",
    "MY_LIB.save_mlp_model.restype = None\n",
    "MY_LIB.save_mlp_model(model, b_path, b_name)"
   ]
  },
  {
   "cell_type": "code",
   "execution_count": null,
   "id": "62352ff3",
   "metadata": {},
   "outputs": [],
   "source": []
  }
 ],
 "metadata": {
  "kernelspec": {
   "display_name": "Python 3",
   "language": "python",
   "name": "python3"
  },
  "language_info": {
   "codemirror_mode": {
    "name": "ipython",
    "version": 3
   },
   "file_extension": ".py",
   "mimetype": "text/x-python",
   "name": "python",
   "nbconvert_exporter": "python",
   "pygments_lexer": "ipython3",
   "version": "3.9.4"
  }
 },
 "nbformat": 4,
 "nbformat_minor": 5
}
