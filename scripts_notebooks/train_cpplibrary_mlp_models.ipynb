{
 "cells": [
  {
   "cell_type": "code",
   "execution_count": 1,
   "id": "5a8b375a",
   "metadata": {},
   "outputs": [],
   "source": [
    "import os\n",
    "import ctypes\n",
    "import numpy as np\n",
    "from PIL import Image\n",
    "from keras.models import load_model"
   ]
  },
  {
   "cell_type": "code",
   "execution_count": 2,
   "id": "8ec26301",
   "metadata": {},
   "outputs": [],
   "source": [
    "MAIN_DATASET_FOLDER = \"..\\\\dataset\\\\\"\n",
    "\n",
    "TEST_SUBFOLDER = os.path.join(MAIN_DATASET_FOLDER, \"test\")\n",
    "TRAIN_SUBFOLDER = os.path.join(MAIN_DATASET_FOLDER, \"train\")\n",
    "\n",
    "TEST_ESPAGNE_FOLDER = os.path.join(TEST_SUBFOLDER, \"espagne\")\n",
    "TEST_FRANCE_FOLDER = os.path.join(TEST_SUBFOLDER, \"france\")\n",
    "TEST_JAPON_FOLDER = os.path.join(TEST_SUBFOLDER, \"japon\")\n",
    "\n",
    "TRAIN_ESPAGNE_FOLDER = os.path.join(TRAIN_SUBFOLDER, \"espagne\")\n",
    "TRAIN_FRANCE_FOLDER = os.path.join(TRAIN_SUBFOLDER, \"france\")\n",
    "TRAIN_JAPON_FOLDER = os.path.join(TRAIN_SUBFOLDER, \"japon\")\n",
    "\n",
    "PATH_TO_SHARED_LIBRARY = \"../library/cmake-build-debug/liblibrary\"\n",
    "MY_LIB = ctypes.CDLL(PATH_TO_SHARED_LIBRARY)"
   ]
  },
  {
   "cell_type": "code",
   "execution_count": 3,
   "id": "81d3fac8",
   "metadata": {},
   "outputs": [],
   "source": [
    "def fill_x_and_y_with_images_and_labels(folder, classe, dataset):\n",
    "\n",
    "    for file in os.listdir(folder):\n",
    "\n",
    "        file_path = os.path.join(folder, file)\n",
    "        image = Image.open(file_path)\n",
    "        image = image.resize((8, 8))\n",
    "\n",
    "        im_arr = np.array(image).flatten()\n",
    "        im_arr = im_arr / 255.0\n",
    "\n",
    "        completed_dataset = {}\n",
    "        completed_dataset[\"value\"] = im_arr\n",
    "        completed_dataset[\"classe\"] = classe\n",
    "\n",
    "        dataset.append(completed_dataset.copy())"
   ]
  },
  {
   "cell_type": "code",
   "execution_count": 4,
   "id": "48bd21b8",
   "metadata": {},
   "outputs": [],
   "source": [
    "def import_dataset(folder, classe):\n",
    "\n",
    "    dataset = []\n",
    "\n",
    "    fill_x_and_y_with_images_and_labels(folder, classe, dataset)\n",
    "\n",
    "    return dataset"
   ]
  },
  {
   "cell_type": "code",
   "execution_count": 5,
   "id": "7c0d0ca1",
   "metadata": {},
   "outputs": [],
   "source": [
    "x_test = []\n",
    "y_test = []\n",
    "\n",
    "x_train = []\n",
    "y_train = []\n",
    "\n",
    "class_espagne_expected_outputs = [1, 0, 0]\n",
    "dataset_test_for_espagne = import_dataset(TEST_ESPAGNE_FOLDER, class_espagne_expected_outputs)\n",
    "dataset_train_for_espagne = import_dataset(TRAIN_ESPAGNE_FOLDER, class_espagne_expected_outputs)\n",
    "\n",
    "class_france_expected_outputs = [0, 1, 0]\n",
    "dataset_test_for_france = import_dataset(TEST_FRANCE_FOLDER, class_france_expected_outputs)\n",
    "dataset_train_for_france = import_dataset(TRAIN_FRANCE_FOLDER, class_france_expected_outputs)\n",
    "\n",
    "class_japon_expected_outputs = [0, 0, 1]\n",
    "dataset_test_for_japon = import_dataset(TEST_JAPON_FOLDER, class_japon_expected_outputs)\n",
    "dataset_train_for_japon = import_dataset(TRAIN_JAPON_FOLDER, class_japon_expected_outputs)\n",
    "\n",
    "final_dataset_test = dataset_test_for_espagne + dataset_test_for_france + dataset_test_for_japon\n",
    "final_dataset_train = dataset_train_for_espagne + dataset_train_for_france + dataset_train_for_japon"
   ]
  },
  {
   "cell_type": "code",
   "execution_count": 6,
   "id": "ff89c6f6",
   "metadata": {},
   "outputs": [],
   "source": [
    "for value in final_dataset_test:\n",
    "\n",
    "        the_image = value[\"value\"].tolist()\n",
    "        the_classe = value[\"classe\"]\n",
    "\n",
    "        x_test.append(the_image)\n",
    "        y_test.append(the_classe)\n",
    "\n",
    "for value in final_dataset_train:\n",
    "\n",
    "    the_image = value[\"value\"].tolist()\n",
    "    the_classe = value[\"classe\"]\n",
    "\n",
    "    x_train.append(the_image)\n",
    "    y_train.append(the_classe)"
   ]
  },
  {
   "cell_type": "code",
   "execution_count": 7,
   "id": "e5f7d2ad",
   "metadata": {},
   "outputs": [],
   "source": [
    "dataset_inputs = x_train\n",
    "dataset_outputs = y_train\n",
    "initiate_dataset_inputs_size = len(dataset_inputs[0])\n",
    "initiate_dataset_inputs_type = ctypes.c_float * initiate_dataset_inputs_size\n",
    "\n",
    "classes_initiate_dataset_inputs_size = initiate_dataset_inputs_size * 2"
   ]
  },
  {
   "cell_type": "code",
   "execution_count": 8,
   "id": "af5c1c81",
   "metadata": {},
   "outputs": [],
   "source": [
    "inputs_result = []\n",
    "\n",
    "for sublist in dataset_inputs:\n",
    "    for item in sublist:\n",
    "        inputs_result.append(item)\n",
    "\n",
    "dataset_inputs = inputs_result\n",
    "\n",
    "outputs_result = []\n",
    "\n",
    "for sublist in dataset_outputs:\n",
    "    for item in sublist:\n",
    "        outputs_result.append(item)\n",
    "\n",
    "dataset_outputs = outputs_result"
   ]
  },
  {
   "cell_type": "code",
   "execution_count": 9,
   "id": "d65bc780",
   "metadata": {},
   "outputs": [],
   "source": [
    "# Load model\n",
    "MY_LIB.load_mlp_model.argtypes = [ctypes.c_char_p]\n",
    "MY_LIB.load_mlp_model.restype = ctypes.c_void_p\n",
    "\n",
    "filepath = \"..\\\\models\\\\cpplibrary_models\\\\model_a.json\"\n",
    "model = MY_LIB.load_mlp_model(filepath.encode('utf-8'))"
   ]
  },
  {
   "cell_type": "code",
   "execution_count": 10,
   "id": "d1d52175",
   "metadata": {
    "scrolled": true
   },
   "outputs": [
    {
     "data": {
      "text/plain": [
       "2763040682032"
      ]
     },
     "execution_count": 10,
     "metadata": {},
     "output_type": "execute_result"
    }
   ],
   "source": [
    "model"
   ]
  },
  {
   "cell_type": "code",
   "execution_count": 11,
   "id": "99c0a495",
   "metadata": {},
   "outputs": [],
   "source": [
    "dataset_inputs_size = len(dataset_inputs)\n",
    "dataset_outputs_size = len(dataset_outputs)"
   ]
  },
  {
   "cell_type": "code",
   "execution_count": 12,
   "id": "80013e77",
   "metadata": {},
   "outputs": [],
   "source": [
    "dataset_inputs_type = ctypes.c_float * dataset_inputs_size\n",
    "dataset_outputs_type = ctypes.c_float * dataset_outputs_size"
   ]
  },
  {
   "cell_type": "code",
   "execution_count": 13,
   "id": "f01b83e6",
   "metadata": {},
   "outputs": [],
   "source": [
    "MY_LIB.train_classification_stochastic_backprop_mlp_model.argtypes = [ctypes.c_void_p, dataset_inputs_type,\n",
    "                                                                              ctypes.c_int,\n",
    "                                                                              dataset_outputs_type,\n",
    "                                                                              ctypes.c_int, ctypes.c_float, ctypes.c_int]\n",
    "MY_LIB.train_classification_stochastic_backprop_mlp_model.restype = None"
   ]
  },
  {
   "cell_type": "code",
   "execution_count": 14,
   "id": "2915837b",
   "metadata": {},
   "outputs": [],
   "source": [
    "native_dataset_inputs = dataset_inputs_type(*dataset_inputs)\n",
    "native_dataset_outputs = dataset_outputs_type(*dataset_outputs)"
   ]
  },
  {
   "cell_type": "code",
   "execution_count": 15,
   "id": "de2af93d",
   "metadata": {},
   "outputs": [
    {
     "ename": "OSError",
     "evalue": "exception: access violation reading 0x000002835219A468",
     "output_type": "error",
     "traceback": [
      "\u001b[1;31m---------------------------------------------------------------------------\u001b[0m",
      "\u001b[1;31mOSError\u001b[0m                                   Traceback (most recent call last)",
      "\u001b[1;32m~\\AppData\\Local\\Temp/ipykernel_14956/567666345.py\u001b[0m in \u001b[0;36m<module>\u001b[1;34m\u001b[0m\n\u001b[1;32m----> 1\u001b[1;33m MY_LIB.train_classification_stochastic_backprop_mlp_model(model, native_dataset_inputs, dataset_inputs_size,\n\u001b[0m\u001b[0;32m      2\u001b[0m                                                               \u001b[0mnative_dataset_outputs\u001b[0m\u001b[1;33m,\u001b[0m \u001b[0mdataset_outputs_size\u001b[0m\u001b[1;33m,\u001b[0m \u001b[1;36m0.001\u001b[0m\u001b[1;33m,\u001b[0m\u001b[1;33m\u001b[0m\u001b[1;33m\u001b[0m\u001b[0m\n\u001b[0;32m      3\u001b[0m                                                               100000)\n",
      "\u001b[1;31mOSError\u001b[0m: exception: access violation reading 0x000002835219A468"
     ]
    }
   ],
   "source": [
    "MY_LIB.train_classification_stochastic_backprop_mlp_model(model, native_dataset_inputs, dataset_inputs_size,\n",
    "                                                              native_dataset_outputs, dataset_outputs_size, 0.001,\n",
    "                                                              100000)"
   ]
  },
  {
   "cell_type": "code",
   "execution_count": null,
   "id": "75081ba9",
   "metadata": {},
   "outputs": [],
   "source": []
  },
  {
   "cell_type": "code",
   "execution_count": null,
   "id": "40f2561f",
   "metadata": {},
   "outputs": [],
   "source": []
  },
  {
   "cell_type": "code",
   "execution_count": null,
   "id": "8e5194ae",
   "metadata": {},
   "outputs": [],
   "source": []
  },
  {
   "cell_type": "code",
   "execution_count": null,
   "id": "50b7bfb8",
   "metadata": {},
   "outputs": [],
   "source": [
    "predicted_values = []\n",
    "\n",
    "for p in x_train:\n",
    "\n",
    "    MY_LIB.predict_mlp_model_classification.argtypes = [ctypes.c_void_p, initiate_dataset_inputs_type, ctypes.c_int]\n",
    "    MY_LIB.predict_mlp_model_classification.restype = ctypes.POINTER(ctypes.c_float)\n",
    "\n",
    "    native_p = initiate_dataset_inputs_type(*p)\n",
    "\n",
    "    predict = MY_LIB.predict_mlp_model_classification(model, native_p, initiate_dataset_inputs_size)\n",
    "\n",
    "    tab_predict = []"
   ]
  },
  {
   "cell_type": "code",
   "execution_count": null,
   "id": "75dd7e59",
   "metadata": {},
   "outputs": [],
   "source": [
    "for q in range(3):\n",
    "        tab_predict.append(predict[q])\n",
    "predicted_values.append(tab_predict)"
   ]
  },
  {
   "cell_type": "code",
   "execution_count": null,
   "id": "8c0a7adf",
   "metadata": {},
   "outputs": [],
   "source": [
    "path = \"..\\\\models\\\\cpplibrary_models\\\\\"\n",
    "b_path = path.encode('utf-8')\n",
    "\n",
    "name = \"a\"\n",
    "b_name = name.encode('utf-8')"
   ]
  },
  {
   "cell_type": "code",
   "execution_count": null,
   "id": "ac836273",
   "metadata": {},
   "outputs": [],
   "source": [
    "# Save model\n",
    "MY_LIB.save_mlp_model.argtypes = [ctypes.c_void_p, ctypes.c_char_p, ctypes.c_char_p]\n",
    "MY_LIB.save_mlp_model.restype = None\n",
    "MY_LIB.save_mlp_model(model, b_path, b_name)"
   ]
  },
  {
   "cell_type": "code",
   "execution_count": null,
   "id": "62352ff3",
   "metadata": {},
   "outputs": [],
   "source": []
  }
 ],
 "metadata": {
  "kernelspec": {
   "display_name": "Python 3 (ipykernel)",
   "language": "python",
   "name": "python3"
  },
  "language_info": {
   "codemirror_mode": {
    "name": "ipython",
    "version": 3
   },
   "file_extension": ".py",
   "mimetype": "text/x-python",
   "name": "python",
   "nbconvert_exporter": "python",
   "pygments_lexer": "ipython3",
   "version": "3.9.6"
  }
 },
 "nbformat": 4,
 "nbformat_minor": 5
}
