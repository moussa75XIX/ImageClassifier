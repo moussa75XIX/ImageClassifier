{
 "cells": [
  {
   "cell_type": "code",
   "execution_count": 1,
   "metadata": {
    "id": "_wqSAZExy6xV"
   },
   "outputs": [],
   "source": [
    "import tensorflow as tf\n",
    "import datetime\n",
    "import os\n",
    "import numpy as np\n",
    "import ctypes\n",
    "from PIL import Image"
   ]
  },
  {
   "cell_type": "code",
   "execution_count": 2,
   "metadata": {},
   "outputs": [],
   "source": [
    "#### ------------------------------------------- ####\n",
    "#### ------------- LOAD THE DATA --------------- ####\n",
    "#### ------------------------------------------- ####"
   ]
  },
  {
   "cell_type": "code",
   "execution_count": 3,
   "metadata": {},
   "outputs": [],
   "source": [
    "MAIN_DATASET_FOLDER = \"..\\\\dataset\\\\\"\n",
    "\n",
    "TEST_SUBFOLDER = os.path.join(MAIN_DATASET_FOLDER, \"test\")\n",
    "TRAIN_SUBFOLDER = os.path.join(MAIN_DATASET_FOLDER, \"train\")\n",
    "\n",
    "TEST_ESPAGNE_FOLDER = os.path.join(TEST_SUBFOLDER, \"espagne\")\n",
    "TEST_FRANCE_FOLDER = os.path.join(TEST_SUBFOLDER, \"france\")\n",
    "TEST_JAPON_FOLDER = os.path.join(TEST_SUBFOLDER, \"japon\")\n",
    "\n",
    "TRAIN_ESPAGNE_FOLDER = os.path.join(TRAIN_SUBFOLDER, \"espagne\")\n",
    "TRAIN_FRANCE_FOLDER = os.path.join(TRAIN_SUBFOLDER, \"france\")\n",
    "TRAIN_JAPON_FOLDER = os.path.join(TRAIN_SUBFOLDER, \"japon\")\n"
   ]
  },
  {
   "cell_type": "code",
   "execution_count": 4,
   "metadata": {},
   "outputs": [],
   "source": [
    "def fill_x_and_y_with_images_and_labels(folder, classe, dataset):\n",
    "\n",
    "    for file in os.listdir(folder):\n",
    "\n",
    "        file_path = os.path.join(folder, file)\n",
    "        image = Image.open(file_path)\n",
    "        image = image.resize((64, 64))\n",
    "        if image.mode in (\"RGB\", \"P\"): image = image.convert(\"RGBA\")\n",
    "        im_arr = np.array(image).flatten()\n",
    "        im_arr = im_arr / 255.0\n",
    "\n",
    "        completed_dataset = {}\n",
    "        completed_dataset[\"value\"] = im_arr\n",
    "        completed_dataset[\"classe\"] = classe\n",
    "\n",
    "        dataset.append(completed_dataset.copy())"
   ]
  },
  {
   "cell_type": "code",
   "execution_count": 5,
   "metadata": {},
   "outputs": [],
   "source": [
    "def import_dataset(folder, classe):\n",
    "\n",
    "    dataset = []\n",
    "\n",
    "    fill_x_and_y_with_images_and_labels(folder, classe, dataset)\n",
    "\n",
    "    return dataset"
   ]
  },
  {
   "cell_type": "code",
   "execution_count": 6,
   "metadata": {
    "scrolled": true
   },
   "outputs": [],
   "source": [
    "x_test = []\n",
    "y_test = []\n",
    "\n",
    "x_train = []\n",
    "y_train = []\n",
    "\n",
    "class_espagne_expected_outputs = [1, 0, 0]\n",
    "dataset_test_for_espagne = import_dataset(TEST_ESPAGNE_FOLDER, class_espagne_expected_outputs)\n",
    "dataset_train_for_espagne = import_dataset(TRAIN_ESPAGNE_FOLDER, class_espagne_expected_outputs)\n",
    "\n",
    "class_france_expected_outputs = [0, 1, 0]\n",
    "dataset_test_for_france = import_dataset(TEST_FRANCE_FOLDER, class_france_expected_outputs)\n",
    "dataset_train_for_france = import_dataset(TRAIN_FRANCE_FOLDER, class_france_expected_outputs)\n",
    "\n",
    "class_japon_expected_outputs = [0, 0, 1]\n",
    "dataset_test_for_japon = import_dataset(TEST_JAPON_FOLDER, class_japon_expected_outputs)\n",
    "dataset_train_for_japon = import_dataset(TRAIN_JAPON_FOLDER, class_japon_expected_outputs)\n",
    "\n",
    "final_dataset_test = dataset_test_for_espagne + dataset_test_for_france + dataset_test_for_japon\n",
    "final_dataset_train = dataset_train_for_espagne + dataset_train_for_france + dataset_train_for_japon"
   ]
  },
  {
   "cell_type": "code",
   "execution_count": 7,
   "metadata": {},
   "outputs": [],
   "source": [
    "for value in final_dataset_test:\n",
    "\n",
    "    the_image = value[\"value\"].tolist()\n",
    "    the_classe = value[\"classe\"]\n",
    "\n",
    "    x_test.append(the_image)\n",
    "    y_test.append(the_classe)\n",
    "\n",
    "for value in final_dataset_train:\n",
    "\n",
    "    the_image = value[\"value\"].tolist()\n",
    "    the_classe = value[\"classe\"]\n",
    "\n",
    "    x_train.append(the_image)\n",
    "    y_train.append(the_classe)\n",
    "\n",
    "dataset_inputs = x_train\n",
    "dataset_outputs = y_train\n",
    "\n",
    "initiate_dataset_inputs_size = len(dataset_inputs[0])\n",
    "initiate_dataset_inputs_type = ctypes.c_float * initiate_dataset_inputs_size\n",
    "\n",
    "classes_initiate_dataset_inputs_size = initiate_dataset_inputs_size * 2"
   ]
  },
  {
   "cell_type": "code",
   "execution_count": 8,
   "metadata": {},
   "outputs": [],
   "source": [
    "inputs_result = []\n",
    "\n",
    "for sublist in dataset_inputs:\n",
    "    for item in sublist:\n",
    "        inputs_result.append(item)\n",
    "\n",
    "dataset_inputs = inputs_result\n",
    "\n",
    "outputs_result = []\n",
    "\n",
    "for sublist in dataset_outputs:\n",
    "    for item in sublist:\n",
    "        outputs_result.append(item)\n",
    "\n",
    "dataset_outputs = outputs_result\n",
    "\n",
    "arr = [initiate_dataset_inputs_size, classes_initiate_dataset_inputs_size, 3]\n",
    "arr_size = len(arr)\n",
    "arr_type = ctypes.c_int * arr_size"
   ]
  },
  {
   "cell_type": "code",
   "execution_count": 9,
   "metadata": {},
   "outputs": [],
   "source": [
    "# Convert train/test to array\n",
    "x_train = np.array(x_train)\n",
    "y_train = np.array(y_train)\n",
    "x_test = np.array(x_test)\n",
    "y_test = np.array(y_test)"
   ]
  },
  {
   "cell_type": "code",
   "execution_count": 10,
   "metadata": {},
   "outputs": [],
   "source": [
    "#### ------------------------------------------- ####\n",
    "#### ------------LOAD MODELS---------------------#### \n",
    "#### ------------------------------------------- ####"
   ]
  },
  {
   "cell_type": "code",
   "execution_count": 11,
   "metadata": {
    "scrolled": true
   },
   "outputs": [],
   "source": [
    "model_pmc_a = tf.keras.models.load_model(\"../models/keras_models/model_a.h5\")"
   ]
  },
  {
   "cell_type": "code",
   "execution_count": 12,
   "metadata": {},
   "outputs": [],
   "source": [
    "model_pmc_b = tf.keras.models.load_model(\"../models/keras_models/model_b.h5\")"
   ]
  },
  {
   "cell_type": "code",
   "execution_count": 13,
   "metadata": {},
   "outputs": [],
   "source": [
    "model_pmc_c = tf.keras.models.load_model(\"../models/keras_models/model_c.h5\")"
   ]
  },
  {
   "cell_type": "code",
   "execution_count": 14,
   "metadata": {},
   "outputs": [],
   "source": [
    "model_pmc_d = tf.keras.models.load_model(\"../models/keras_models/model_d.h5\")"
   ]
  },
  {
   "cell_type": "code",
   "execution_count": null,
   "metadata": {},
   "outputs": [],
   "source": []
  },
  {
   "cell_type": "code",
   "execution_count": 57,
   "metadata": {},
   "outputs": [],
   "source": [
    "#### ------------------------------------------- ####\n",
    "#### ------ DEFINE THE TRAINING ALGORITHM ------ #### \n",
    "#### ------------------------------------------- ####"
   ]
  },
  {
   "cell_type": "code",
   "execution_count": 15,
   "metadata": {},
   "outputs": [],
   "source": [
    "OPTIMIZER = tf.keras.optimizers.SGD(learning_rate=1e-3)\n",
    "LOSS = tf.keras.losses.CategoricalCrossentropy(from_logits=False)\n",
    "METRICS = [\n",
    "    tf.keras.metrics.CategoricalAccuracy(name='acc'),\n",
    "]"
   ]
  },
  {
   "cell_type": "code",
   "execution_count": 16,
   "metadata": {
    "scrolled": true
   },
   "outputs": [],
   "source": [
    "model_pmc_a.compile(\n",
    "    optimizer=OPTIMIZER,\n",
    "    loss=LOSS,\n",
    "    metrics=METRICS\n",
    ")\n",
    "\n",
    "model_pmc_b.compile(\n",
    "    optimizer=OPTIMIZER,\n",
    "    loss=LOSS,\n",
    "    metrics=METRICS\n",
    ")\n",
    "\n",
    "model_pmc_c.compile(\n",
    "    optimizer=OPTIMIZER,\n",
    "    loss=LOSS,\n",
    "    metrics=METRICS\n",
    ")\n",
    "\n",
    "model_pmc_d.compile(\n",
    "    optimizer=OPTIMIZER,\n",
    "    loss=LOSS,\n",
    "    metrics=METRICS\n",
    ")"
   ]
  },
  {
   "cell_type": "code",
   "execution_count": 18,
   "metadata": {},
   "outputs": [],
   "source": [
    "#### ------------------------------------------- ####\n",
    "#### ------------- TRAIN MODEL (A) ------------- #### \n",
    "#### ------------------------------------------- ####"
   ]
  },
  {
   "cell_type": "code",
   "execution_count": 17,
   "metadata": {},
   "outputs": [],
   "source": [
    "tf.keras.backend.clear_session()"
   ]
  },
  {
   "cell_type": "code",
   "execution_count": 18,
   "metadata": {},
   "outputs": [],
   "source": [
    "# Callbacks for saving the checkpoints at every epoch.\n",
    "checkpoint_cb = tf.keras.callbacks.ModelCheckpoint('../models/keras_models/model_a.h5', save_best_only=True)"
   ]
  },
  {
   "cell_type": "code",
   "execution_count": 19,
   "metadata": {
    "id": "WAQThq539CEJ"
   },
   "outputs": [
    {
     "name": "stdout",
     "output_type": "stream",
     "text": [
      "Epoch 1/100\n",
      "19/19 [==============================] - 1s 37ms/step - loss: 0.3072 - acc: 0.8917 - val_loss: 0.5409 - val_acc: 0.7333\n",
      "Epoch 2/100\n",
      "19/19 [==============================] - 0s 4ms/step - loss: 0.2763 - acc: 0.9067 - val_loss: 0.5535 - val_acc: 0.7667\n",
      "Epoch 3/100\n",
      "19/19 [==============================] - 0s 4ms/step - loss: 0.2951 - acc: 0.8967 - val_loss: 0.7359 - val_acc: 0.7250\n",
      "Epoch 4/100\n",
      "19/19 [==============================] - 0s 4ms/step - loss: 0.3120 - acc: 0.8783 - val_loss: 0.7535 - val_acc: 0.7000\n",
      "Epoch 5/100\n",
      "19/19 [==============================] - 0s 4ms/step - loss: 0.2771 - acc: 0.9033 - val_loss: 0.5556 - val_acc: 0.7250\n",
      "Epoch 6/100\n",
      "19/19 [==============================] - 0s 4ms/step - loss: 0.3056 - acc: 0.8900 - val_loss: 0.5747 - val_acc: 0.7000\n",
      "Epoch 7/100\n",
      "19/19 [==============================] - 0s 4ms/step - loss: 0.3045 - acc: 0.8867 - val_loss: 0.5660 - val_acc: 0.7000\n",
      "Epoch 8/100\n",
      "19/19 [==============================] - 0s 4ms/step - loss: 0.2939 - acc: 0.8867 - val_loss: 0.7186 - val_acc: 0.6917\n",
      "Epoch 9/100\n",
      "19/19 [==============================] - 0s 4ms/step - loss: 0.2692 - acc: 0.9167 - val_loss: 0.5553 - val_acc: 0.7250\n",
      "Epoch 10/100\n",
      "19/19 [==============================] - 0s 4ms/step - loss: 0.2826 - acc: 0.9033 - val_loss: 0.5283 - val_acc: 0.7333\n",
      "Epoch 11/100\n",
      "19/19 [==============================] - 0s 4ms/step - loss: 0.2725 - acc: 0.9217 - val_loss: 0.5591 - val_acc: 0.7167\n",
      "Epoch 12/100\n",
      "19/19 [==============================] - 0s 4ms/step - loss: 0.2740 - acc: 0.9133 - val_loss: 0.6384 - val_acc: 0.7250\n",
      "Epoch 13/100\n",
      "19/19 [==============================] - 0s 4ms/step - loss: 0.2709 - acc: 0.9150 - val_loss: 0.6057 - val_acc: 0.7083\n",
      "Epoch 14/100\n",
      "19/19 [==============================] - 0s 4ms/step - loss: 0.2692 - acc: 0.9333 - val_loss: 0.5519 - val_acc: 0.7333\n",
      "Epoch 15/100\n",
      "19/19 [==============================] - 0s 4ms/step - loss: 0.2675 - acc: 0.9150 - val_loss: 0.5801 - val_acc: 0.7167\n",
      "Epoch 16/100\n",
      "19/19 [==============================] - 0s 4ms/step - loss: 0.2826 - acc: 0.9017 - val_loss: 0.5589 - val_acc: 0.7083\n",
      "Epoch 17/100\n",
      "19/19 [==============================] - 0s 4ms/step - loss: 0.3186 - acc: 0.8850 - val_loss: 0.5291 - val_acc: 0.7500\n",
      "Epoch 18/100\n",
      "19/19 [==============================] - 0s 4ms/step - loss: 0.2730 - acc: 0.9233 - val_loss: 0.5404 - val_acc: 0.7083\n",
      "Epoch 19/100\n",
      "19/19 [==============================] - 0s 4ms/step - loss: 0.2784 - acc: 0.9100 - val_loss: 0.5900 - val_acc: 0.7167\n",
      "Epoch 20/100\n",
      "19/19 [==============================] - 0s 4ms/step - loss: 0.2765 - acc: 0.9083 - val_loss: 0.6388 - val_acc: 0.7250\n",
      "Epoch 21/100\n",
      "19/19 [==============================] - 0s 4ms/step - loss: 0.2607 - acc: 0.9217 - val_loss: 0.5465 - val_acc: 0.7583\n",
      "Epoch 22/100\n",
      "19/19 [==============================] - 0s 4ms/step - loss: 0.2748 - acc: 0.9083 - val_loss: 0.8091 - val_acc: 0.6917\n",
      "Epoch 23/100\n",
      "19/19 [==============================] - 0s 4ms/step - loss: 0.2850 - acc: 0.9133 - val_loss: 0.5816 - val_acc: 0.7333\n",
      "Epoch 24/100\n",
      "19/19 [==============================] - 0s 4ms/step - loss: 0.2691 - acc: 0.9100 - val_loss: 0.5598 - val_acc: 0.7333\n",
      "Epoch 25/100\n",
      "19/19 [==============================] - 0s 4ms/step - loss: 0.2736 - acc: 0.9067 - val_loss: 0.5540 - val_acc: 0.7417\n",
      "Epoch 26/100\n",
      "19/19 [==============================] - 0s 4ms/step - loss: 0.2931 - acc: 0.8950 - val_loss: 0.6334 - val_acc: 0.7083\n",
      "Epoch 27/100\n",
      "19/19 [==============================] - 0s 4ms/step - loss: 0.2872 - acc: 0.9117 - val_loss: 0.7166 - val_acc: 0.7167\n",
      "Epoch 28/100\n",
      "19/19 [==============================] - 0s 4ms/step - loss: 0.2725 - acc: 0.9100 - val_loss: 0.5848 - val_acc: 0.7417\n",
      "Epoch 29/100\n",
      "19/19 [==============================] - 0s 4ms/step - loss: 0.2899 - acc: 0.9017 - val_loss: 0.5611 - val_acc: 0.7417\n",
      "Epoch 30/100\n",
      "19/19 [==============================] - 0s 4ms/step - loss: 0.2573 - acc: 0.9250 - val_loss: 0.5407 - val_acc: 0.7167\n",
      "Epoch 31/100\n",
      "19/19 [==============================] - 0s 8ms/step - loss: 0.2816 - acc: 0.9100 - val_loss: 0.5405 - val_acc: 0.7333\n",
      "Epoch 32/100\n",
      "19/19 [==============================] - 0s 4ms/step - loss: 0.2597 - acc: 0.9300 - val_loss: 0.5334 - val_acc: 0.7250\n",
      "Epoch 33/100\n",
      "19/19 [==============================] - 0s 4ms/step - loss: 0.2784 - acc: 0.8983 - val_loss: 0.5707 - val_acc: 0.7333\n",
      "Epoch 34/100\n",
      "19/19 [==============================] - 0s 4ms/step - loss: 0.2761 - acc: 0.8967 - val_loss: 0.5645 - val_acc: 0.7000\n",
      "Epoch 35/100\n",
      "19/19 [==============================] - 0s 4ms/step - loss: 0.2519 - acc: 0.9217 - val_loss: 0.5694 - val_acc: 0.7167\n",
      "Epoch 36/100\n",
      "19/19 [==============================] - 0s 4ms/step - loss: 0.2667 - acc: 0.9183 - val_loss: 0.6760 - val_acc: 0.7250\n",
      "Epoch 37/100\n",
      "19/19 [==============================] - 0s 5ms/step - loss: 0.2510 - acc: 0.9350 - val_loss: 0.5586 - val_acc: 0.7083\n",
      "Epoch 38/100\n",
      "19/19 [==============================] - 0s 4ms/step - loss: 0.2695 - acc: 0.9067 - val_loss: 0.6399 - val_acc: 0.7333\n",
      "Epoch 39/100\n",
      "19/19 [==============================] - 0s 4ms/step - loss: 0.2586 - acc: 0.9250 - val_loss: 0.5931 - val_acc: 0.7250\n",
      "Epoch 40/100\n",
      "19/19 [==============================] - 0s 4ms/step - loss: 0.2732 - acc: 0.9200 - val_loss: 0.5623 - val_acc: 0.7417\n",
      "Epoch 41/100\n",
      "19/19 [==============================] - 0s 4ms/step - loss: 0.2668 - acc: 0.9000 - val_loss: 0.6097 - val_acc: 0.7333\n",
      "Epoch 42/100\n",
      "19/19 [==============================] - 0s 4ms/step - loss: 0.2680 - acc: 0.9133 - val_loss: 0.7758 - val_acc: 0.7083\n",
      "Epoch 43/100\n",
      "19/19 [==============================] - 0s 4ms/step - loss: 0.2702 - acc: 0.9033 - val_loss: 0.5413 - val_acc: 0.7250\n",
      "Epoch 44/100\n",
      "19/19 [==============================] - 0s 4ms/step - loss: 0.2557 - acc: 0.9217 - val_loss: 0.5820 - val_acc: 0.7000\n",
      "Epoch 45/100\n",
      "19/19 [==============================] - 0s 4ms/step - loss: 0.2526 - acc: 0.9283 - val_loss: 0.5624 - val_acc: 0.7250\n",
      "Epoch 46/100\n",
      "19/19 [==============================] - 0s 4ms/step - loss: 0.2494 - acc: 0.9283 - val_loss: 0.5576 - val_acc: 0.7167\n",
      "Epoch 47/100\n",
      "19/19 [==============================] - 0s 4ms/step - loss: 0.2993 - acc: 0.8933 - val_loss: 0.5968 - val_acc: 0.6917\n",
      "Epoch 48/100\n",
      "19/19 [==============================] - 0s 4ms/step - loss: 0.2556 - acc: 0.9233 - val_loss: 0.5371 - val_acc: 0.7417\n",
      "Epoch 49/100\n",
      "19/19 [==============================] - 0s 4ms/step - loss: 0.2432 - acc: 0.9250 - val_loss: 0.5695 - val_acc: 0.7000\n",
      "Epoch 50/100\n",
      "19/19 [==============================] - 0s 4ms/step - loss: 0.2580 - acc: 0.9133 - val_loss: 0.5648 - val_acc: 0.6917\n",
      "Epoch 51/100\n",
      "19/19 [==============================] - 0s 4ms/step - loss: 0.2419 - acc: 0.9433 - val_loss: 0.5323 - val_acc: 0.7417\n",
      "Epoch 52/100\n",
      "19/19 [==============================] - 0s 4ms/step - loss: 0.2400 - acc: 0.9233 - val_loss: 0.5644 - val_acc: 0.7000\n",
      "Epoch 53/100\n",
      "19/19 [==============================] - 0s 4ms/step - loss: 0.2333 - acc: 0.9333 - val_loss: 0.5417 - val_acc: 0.7167\n",
      "Epoch 54/100\n",
      "19/19 [==============================] - 0s 4ms/step - loss: 0.2485 - acc: 0.9383 - val_loss: 0.5757 - val_acc: 0.7250\n",
      "Epoch 55/100\n",
      "19/19 [==============================] - 0s 4ms/step - loss: 0.2418 - acc: 0.9267 - val_loss: 0.5357 - val_acc: 0.7167\n",
      "Epoch 56/100\n",
      "19/19 [==============================] - 0s 4ms/step - loss: 0.2399 - acc: 0.9367 - val_loss: 0.5769 - val_acc: 0.7250\n",
      "Epoch 57/100\n",
      "19/19 [==============================] - 0s 4ms/step - loss: 0.2562 - acc: 0.9217 - val_loss: 0.5967 - val_acc: 0.7333\n",
      "Epoch 58/100\n",
      "19/19 [==============================] - 0s 4ms/step - loss: 0.2494 - acc: 0.9183 - val_loss: 0.5481 - val_acc: 0.7417\n",
      "Epoch 59/100\n",
      "19/19 [==============================] - 0s 4ms/step - loss: 0.2563 - acc: 0.9150 - val_loss: 0.5393 - val_acc: 0.7167\n",
      "Epoch 60/100\n",
      "19/19 [==============================] - 0s 5ms/step - loss: 0.2579 - acc: 0.9150 - val_loss: 0.5723 - val_acc: 0.6917\n",
      "Epoch 61/100\n",
      "19/19 [==============================] - 0s 4ms/step - loss: 0.2549 - acc: 0.9200 - val_loss: 0.5742 - val_acc: 0.7167\n",
      "Epoch 62/100\n",
      "19/19 [==============================] - 0s 5ms/step - loss: 0.2513 - acc: 0.9150 - val_loss: 0.6060 - val_acc: 0.7417\n",
      "Epoch 63/100\n",
      "19/19 [==============================] - 0s 4ms/step - loss: 0.2454 - acc: 0.9267 - val_loss: 0.5587 - val_acc: 0.7083\n",
      "Epoch 64/100\n",
      "19/19 [==============================] - 0s 4ms/step - loss: 0.2428 - acc: 0.9267 - val_loss: 0.5549 - val_acc: 0.6917\n",
      "Epoch 65/100\n",
      "19/19 [==============================] - 0s 4ms/step - loss: 0.2499 - acc: 0.9233 - val_loss: 0.5741 - val_acc: 0.7167\n",
      "Epoch 66/100\n",
      "19/19 [==============================] - 0s 4ms/step - loss: 0.2484 - acc: 0.9233 - val_loss: 0.5963 - val_acc: 0.7250\n",
      "Epoch 67/100\n",
      "19/19 [==============================] - 0s 4ms/step - loss: 0.2355 - acc: 0.9367 - val_loss: 0.5388 - val_acc: 0.7500\n",
      "Epoch 68/100\n",
      "19/19 [==============================] - 0s 4ms/step - loss: 0.2340 - acc: 0.9250 - val_loss: 0.5557 - val_acc: 0.6833\n",
      "Epoch 69/100\n",
      "19/19 [==============================] - 0s 4ms/step - loss: 0.2344 - acc: 0.9367 - val_loss: 0.5649 - val_acc: 0.7417\n",
      "Epoch 70/100\n",
      "19/19 [==============================] - 0s 4ms/step - loss: 0.2378 - acc: 0.9250 - val_loss: 0.5624 - val_acc: 0.7083\n",
      "Epoch 71/100\n",
      "19/19 [==============================] - 0s 4ms/step - loss: 0.2341 - acc: 0.9283 - val_loss: 0.5804 - val_acc: 0.7167\n",
      "Epoch 72/100\n",
      "19/19 [==============================] - 0s 21ms/step - loss: 0.2312 - acc: 0.9467 - val_loss: 0.5359 - val_acc: 0.7500\n",
      "Epoch 73/100\n",
      "19/19 [==============================] - 0s 4ms/step - loss: 0.2332 - acc: 0.9450 - val_loss: 0.5707 - val_acc: 0.7000\n",
      "Epoch 74/100\n",
      "19/19 [==============================] - 0s 4ms/step - loss: 0.2324 - acc: 0.9317 - val_loss: 0.5407 - val_acc: 0.7167\n",
      "Epoch 75/100\n",
      "19/19 [==============================] - 0s 4ms/step - loss: 0.2395 - acc: 0.9283 - val_loss: 0.5989 - val_acc: 0.7417\n",
      "Epoch 76/100\n",
      "19/19 [==============================] - 0s 4ms/step - loss: 0.2245 - acc: 0.9417 - val_loss: 0.5858 - val_acc: 0.7333\n",
      "Epoch 77/100\n",
      "19/19 [==============================] - 0s 4ms/step - loss: 0.2295 - acc: 0.9333 - val_loss: 0.6765 - val_acc: 0.7250\n",
      "Epoch 78/100\n",
      "19/19 [==============================] - 0s 4ms/step - loss: 0.2431 - acc: 0.9183 - val_loss: 0.5772 - val_acc: 0.7083\n",
      "Epoch 79/100\n",
      "19/19 [==============================] - 0s 5ms/step - loss: 0.2443 - acc: 0.9283 - val_loss: 0.5456 - val_acc: 0.7500\n",
      "Epoch 80/100\n",
      "19/19 [==============================] - 0s 4ms/step - loss: 0.2240 - acc: 0.9400 - val_loss: 0.6432 - val_acc: 0.7583\n",
      "Epoch 81/100\n",
      "19/19 [==============================] - 0s 4ms/step - loss: 0.2237 - acc: 0.9317 - val_loss: 0.5569 - val_acc: 0.7000\n",
      "Epoch 82/100\n",
      "19/19 [==============================] - 0s 4ms/step - loss: 0.2293 - acc: 0.9417 - val_loss: 0.5573 - val_acc: 0.7083\n",
      "Epoch 83/100\n",
      "19/19 [==============================] - 0s 3ms/step - loss: 0.2311 - acc: 0.9333 - val_loss: 0.5567 - val_acc: 0.7333\n",
      "Epoch 84/100\n",
      "19/19 [==============================] - 0s 4ms/step - loss: 0.2334 - acc: 0.9400 - val_loss: 0.5382 - val_acc: 0.7583\n",
      "Epoch 85/100\n",
      "19/19 [==============================] - 0s 4ms/step - loss: 0.2330 - acc: 0.9300 - val_loss: 0.5935 - val_acc: 0.7250\n",
      "Epoch 86/100\n",
      "19/19 [==============================] - 0s 4ms/step - loss: 0.2281 - acc: 0.9333 - val_loss: 0.6082 - val_acc: 0.7500\n",
      "Epoch 87/100\n",
      "19/19 [==============================] - 0s 4ms/step - loss: 0.2178 - acc: 0.9433 - val_loss: 0.5552 - val_acc: 0.7167\n",
      "Epoch 88/100\n",
      "19/19 [==============================] - 0s 4ms/step - loss: 0.2251 - acc: 0.9367 - val_loss: 0.5989 - val_acc: 0.7250\n",
      "Epoch 89/100\n",
      "19/19 [==============================] - 0s 4ms/step - loss: 0.2298 - acc: 0.9217 - val_loss: 0.5837 - val_acc: 0.7167\n",
      "Epoch 90/100\n",
      "19/19 [==============================] - 0s 4ms/step - loss: 0.2169 - acc: 0.9483 - val_loss: 0.5649 - val_acc: 0.7000\n",
      "Epoch 91/100\n",
      "19/19 [==============================] - 0s 4ms/step - loss: 0.2220 - acc: 0.9400 - val_loss: 0.6058 - val_acc: 0.6917\n",
      "Epoch 92/100\n",
      "19/19 [==============================] - 0s 4ms/step - loss: 0.2297 - acc: 0.9333 - val_loss: 0.5603 - val_acc: 0.6833\n",
      "Epoch 93/100\n",
      "19/19 [==============================] - 0s 4ms/step - loss: 0.2218 - acc: 0.9350 - val_loss: 0.5446 - val_acc: 0.7667\n",
      "Epoch 94/100\n",
      "19/19 [==============================] - 0s 4ms/step - loss: 0.2221 - acc: 0.9467 - val_loss: 0.6658 - val_acc: 0.7500\n",
      "Epoch 95/100\n",
      "19/19 [==============================] - 0s 4ms/step - loss: 0.2245 - acc: 0.9333 - val_loss: 0.5445 - val_acc: 0.7583\n",
      "Epoch 96/100\n",
      "19/19 [==============================] - 0s 4ms/step - loss: 0.2197 - acc: 0.9367 - val_loss: 0.5702 - val_acc: 0.7167\n",
      "Epoch 97/100\n",
      "19/19 [==============================] - 0s 4ms/step - loss: 0.2236 - acc: 0.9317 - val_loss: 0.6204 - val_acc: 0.7167\n",
      "Epoch 98/100\n",
      "19/19 [==============================] - 0s 4ms/step - loss: 0.2149 - acc: 0.9367 - val_loss: 0.5758 - val_acc: 0.7250\n",
      "Epoch 99/100\n",
      "19/19 [==============================] - 0s 3ms/step - loss: 0.2150 - acc: 0.9417 - val_loss: 0.5878 - val_acc: 0.7083\n",
      "Epoch 100/100\n",
      "19/19 [==============================] - 0s 3ms/step - loss: 0.2174 - acc: 0.9500 - val_loss: 0.5427 - val_acc: 0.7167\n"
     ]
    }
   ],
   "source": [
    "tensorboard_cb = tf.keras.callbacks.TensorBoard(\n",
    "    log_dir=\"../models/keras_models/keras_logs/\" + datetime.datetime.now().strftime(\"model_a_%Y%m%d-%H%M%S\"), \n",
    "    histogram_freq=1\n",
    ")\n",
    "\n",
    "history_a = model_pmc_a.fit(\n",
    "    x=x_train, \n",
    "    y=y_train, \n",
    "    epochs=100, \n",
    "    validation_data=(x_test, y_test), \n",
    "    callbacks=[\n",
    "        tensorboard_cb,\n",
    "        checkpoint_cb,\n",
    "        \n",
    "        \n",
    "    ]\n",
    "\n",
    ")"
   ]
  },
  {
   "cell_type": "code",
   "execution_count": 20,
   "metadata": {},
   "outputs": [
    {
     "data": {
      "text/plain": [
       "dict_keys(['loss', 'acc', 'val_loss', 'val_acc'])"
      ]
     },
     "execution_count": 20,
     "metadata": {},
     "output_type": "execute_result"
    }
   ],
   "source": [
    "history_a.history.keys()"
   ]
  },
  {
   "cell_type": "code",
   "execution_count": null,
   "metadata": {},
   "outputs": [],
   "source": []
  },
  {
   "cell_type": "code",
   "execution_count": 23,
   "metadata": {},
   "outputs": [],
   "source": [
    "#### ------------------------------------------- ####\n",
    "#### ------------- TRAIN MODEL (B) ------------- #### \n",
    "#### ------------------------------------------- ####"
   ]
  },
  {
   "cell_type": "code",
   "execution_count": 24,
   "metadata": {},
   "outputs": [],
   "source": [
    "tf.keras.backend.clear_session()"
   ]
  },
  {
   "cell_type": "code",
   "execution_count": 70,
   "metadata": {},
   "outputs": [],
   "source": [
    "# Callbacks for saving the checkpoints at every epoch.\n",
    "checkpoint_cb = tf.keras.callbacks.ModelCheckpoint('../models/keras_models/model_b.h5', save_best_only=True)"
   ]
  },
  {
   "cell_type": "code",
   "execution_count": 71,
   "metadata": {
    "scrolled": true
   },
   "outputs": [
    {
     "name": "stdout",
     "output_type": "stream",
     "text": [
      "Epoch 1/100\n",
      "19/19 [==============================] - 1s 59ms/step - loss: 1.0980 - acc: 0.3900 - val_loss: 0.9922 - val_acc: 0.6000\n",
      "Epoch 2/100\n",
      "19/19 [==============================] - 0s 4ms/step - loss: 0.9866 - acc: 0.5433 - val_loss: 0.9476 - val_acc: 0.5333\n",
      "Epoch 3/100\n",
      "19/19 [==============================] - 0s 4ms/step - loss: 0.9550 - acc: 0.5717 - val_loss: 0.8831 - val_acc: 0.6000\n",
      "Epoch 4/100\n",
      "19/19 [==============================] - 0s 4ms/step - loss: 0.8357 - acc: 0.6333 - val_loss: 0.8064 - val_acc: 0.6500\n",
      "Epoch 5/100\n",
      "19/19 [==============================] - 0s 4ms/step - loss: 0.7948 - acc: 0.6767 - val_loss: 0.8040 - val_acc: 0.6333\n",
      "Epoch 6/100\n",
      "19/19 [==============================] - 0s 4ms/step - loss: 0.8169 - acc: 0.6350 - val_loss: 0.7464 - val_acc: 0.6750\n",
      "Epoch 7/100\n",
      "19/19 [==============================] - 0s 4ms/step - loss: 0.7745 - acc: 0.6817 - val_loss: 0.7181 - val_acc: 0.7333\n",
      "Epoch 8/100\n",
      "19/19 [==============================] - 0s 4ms/step - loss: 0.7395 - acc: 0.6867 - val_loss: 0.6951 - val_acc: 0.7333\n",
      "Epoch 9/100\n",
      "19/19 [==============================] - 0s 4ms/step - loss: 0.7204 - acc: 0.6850 - val_loss: 0.6753 - val_acc: 0.7500\n",
      "Epoch 10/100\n",
      "19/19 [==============================] - 0s 4ms/step - loss: 0.7037 - acc: 0.7150 - val_loss: 0.7023 - val_acc: 0.7250\n",
      "Epoch 11/100\n",
      "19/19 [==============================] - 0s 4ms/step - loss: 0.6945 - acc: 0.7067 - val_loss: 0.6901 - val_acc: 0.6667\n",
      "Epoch 12/100\n",
      "19/19 [==============================] - 0s 4ms/step - loss: 0.6829 - acc: 0.7217 - val_loss: 0.7302 - val_acc: 0.6750\n",
      "Epoch 13/100\n",
      "19/19 [==============================] - 0s 4ms/step - loss: 0.6558 - acc: 0.7400 - val_loss: 0.6408 - val_acc: 0.7333\n",
      "Epoch 14/100\n",
      "19/19 [==============================] - 0s 4ms/step - loss: 0.6347 - acc: 0.7500 - val_loss: 0.6558 - val_acc: 0.7250\n",
      "Epoch 15/100\n",
      "19/19 [==============================] - 0s 4ms/step - loss: 0.6243 - acc: 0.7617 - val_loss: 0.6237 - val_acc: 0.7250\n",
      "Epoch 16/100\n",
      "19/19 [==============================] - 0s 4ms/step - loss: 0.6149 - acc: 0.7533 - val_loss: 0.6439 - val_acc: 0.7167\n",
      "Epoch 17/100\n",
      "19/19 [==============================] - 0s 4ms/step - loss: 0.6611 - acc: 0.7233 - val_loss: 0.8263 - val_acc: 0.5833\n",
      "Epoch 18/100\n",
      "19/19 [==============================] - 0s 4ms/step - loss: 0.6225 - acc: 0.7367 - val_loss: 0.6835 - val_acc: 0.7083\n",
      "Epoch 19/100\n",
      "19/19 [==============================] - 0s 4ms/step - loss: 0.6067 - acc: 0.7683 - val_loss: 0.6107 - val_acc: 0.7250\n",
      "Epoch 20/100\n",
      "19/19 [==============================] - 0s 4ms/step - loss: 0.5868 - acc: 0.7833 - val_loss: 0.6027 - val_acc: 0.7417\n",
      "Epoch 21/100\n",
      "19/19 [==============================] - 0s 4ms/step - loss: 0.6065 - acc: 0.7483 - val_loss: 0.5988 - val_acc: 0.7417\n",
      "Epoch 22/100\n",
      "19/19 [==============================] - 0s 4ms/step - loss: 0.5945 - acc: 0.7550 - val_loss: 0.6144 - val_acc: 0.7333\n",
      "Epoch 23/100\n",
      "19/19 [==============================] - 0s 4ms/step - loss: 0.5682 - acc: 0.7717 - val_loss: 0.6635 - val_acc: 0.7417\n",
      "Epoch 24/100\n",
      "19/19 [==============================] - 0s 4ms/step - loss: 0.5681 - acc: 0.7767 - val_loss: 0.6132 - val_acc: 0.7167\n",
      "Epoch 25/100\n",
      "19/19 [==============================] - 0s 4ms/step - loss: 0.5677 - acc: 0.7667 - val_loss: 0.6074 - val_acc: 0.7500\n",
      "Epoch 26/100\n",
      "19/19 [==============================] - 0s 4ms/step - loss: 0.5606 - acc: 0.7750 - val_loss: 0.6173 - val_acc: 0.7417\n",
      "Epoch 27/100\n",
      "19/19 [==============================] - 0s 4ms/step - loss: 0.5553 - acc: 0.7733 - val_loss: 0.7180 - val_acc: 0.6750\n",
      "Epoch 28/100\n",
      "19/19 [==============================] - 0s 4ms/step - loss: 0.5677 - acc: 0.7750 - val_loss: 0.6925 - val_acc: 0.7000\n",
      "Epoch 29/100\n",
      "19/19 [==============================] - 0s 4ms/step - loss: 0.5529 - acc: 0.7717 - val_loss: 0.5928 - val_acc: 0.7333\n",
      "Epoch 30/100\n",
      "19/19 [==============================] - 0s 4ms/step - loss: 0.5469 - acc: 0.7750 - val_loss: 0.6431 - val_acc: 0.7333\n",
      "Epoch 31/100\n",
      "19/19 [==============================] - 0s 4ms/step - loss: 0.5378 - acc: 0.7800 - val_loss: 0.7047 - val_acc: 0.6917\n",
      "Epoch 32/100\n",
      "19/19 [==============================] - 0s 4ms/step - loss: 0.5643 - acc: 0.7800 - val_loss: 0.9602 - val_acc: 0.5917\n",
      "Epoch 33/100\n",
      "19/19 [==============================] - 0s 4ms/step - loss: 0.5403 - acc: 0.7850 - val_loss: 0.6460 - val_acc: 0.7333\n",
      "Epoch 34/100\n",
      "19/19 [==============================] - 0s 4ms/step - loss: 0.5346 - acc: 0.7750 - val_loss: 0.5858 - val_acc: 0.7667\n",
      "Epoch 35/100\n",
      "19/19 [==============================] - 0s 4ms/step - loss: 0.5085 - acc: 0.7967 - val_loss: 0.5939 - val_acc: 0.7500\n",
      "Epoch 36/100\n",
      "19/19 [==============================] - 0s 4ms/step - loss: 0.5325 - acc: 0.7900 - val_loss: 0.5751 - val_acc: 0.7750\n",
      "Epoch 37/100\n",
      "19/19 [==============================] - 0s 3ms/step - loss: 0.5274 - acc: 0.7917 - val_loss: 0.5783 - val_acc: 0.7583\n",
      "Epoch 38/100\n",
      "19/19 [==============================] - 0s 4ms/step - loss: 0.5098 - acc: 0.7900 - val_loss: 0.5792 - val_acc: 0.7583\n",
      "Epoch 39/100\n",
      "19/19 [==============================] - 0s 4ms/step - loss: 0.5087 - acc: 0.7883 - val_loss: 0.5877 - val_acc: 0.7333\n",
      "Epoch 40/100\n",
      "19/19 [==============================] - 0s 4ms/step - loss: 0.5167 - acc: 0.7917 - val_loss: 0.6274 - val_acc: 0.7250\n",
      "Epoch 41/100\n",
      "19/19 [==============================] - 0s 4ms/step - loss: 0.5097 - acc: 0.7917 - val_loss: 0.7072 - val_acc: 0.7083\n",
      "Epoch 42/100\n",
      "19/19 [==============================] - 0s 4ms/step - loss: 0.5226 - acc: 0.7883 - val_loss: 0.6152 - val_acc: 0.7417\n",
      "Epoch 43/100\n",
      "19/19 [==============================] - 0s 4ms/step - loss: 0.5022 - acc: 0.8067 - val_loss: 0.6469 - val_acc: 0.7167\n",
      "Epoch 44/100\n",
      "19/19 [==============================] - 0s 4ms/step - loss: 0.5151 - acc: 0.7850 - val_loss: 0.5846 - val_acc: 0.7167\n",
      "Epoch 45/100\n",
      "19/19 [==============================] - 0s 4ms/step - loss: 0.5044 - acc: 0.7900 - val_loss: 0.7288 - val_acc: 0.6583\n",
      "Epoch 46/100\n",
      "19/19 [==============================] - 0s 4ms/step - loss: 0.5054 - acc: 0.7983 - val_loss: 0.6635 - val_acc: 0.6917\n",
      "Epoch 47/100\n",
      "19/19 [==============================] - 0s 4ms/step - loss: 0.4903 - acc: 0.8017 - val_loss: 0.5652 - val_acc: 0.7667\n",
      "Epoch 48/100\n",
      "19/19 [==============================] - 0s 3ms/step - loss: 0.5012 - acc: 0.7983 - val_loss: 0.6347 - val_acc: 0.7333\n",
      "Epoch 49/100\n",
      "19/19 [==============================] - 0s 4ms/step - loss: 0.5123 - acc: 0.7750 - val_loss: 0.6297 - val_acc: 0.7167\n",
      "Epoch 50/100\n",
      "19/19 [==============================] - 0s 4ms/step - loss: 0.4732 - acc: 0.8183 - val_loss: 0.5749 - val_acc: 0.7750\n",
      "Epoch 51/100\n",
      "19/19 [==============================] - 0s 4ms/step - loss: 0.4912 - acc: 0.8033 - val_loss: 0.5727 - val_acc: 0.7667\n",
      "Epoch 52/100\n",
      "19/19 [==============================] - 0s 4ms/step - loss: 0.4696 - acc: 0.8200 - val_loss: 0.5697 - val_acc: 0.7417\n",
      "Epoch 53/100\n",
      "19/19 [==============================] - 0s 4ms/step - loss: 0.4565 - acc: 0.8133 - val_loss: 0.6216 - val_acc: 0.7083\n",
      "Epoch 54/100\n",
      "19/19 [==============================] - 0s 4ms/step - loss: 0.4715 - acc: 0.8133 - val_loss: 0.5997 - val_acc: 0.7667\n",
      "Epoch 55/100\n",
      "19/19 [==============================] - 0s 4ms/step - loss: 0.4619 - acc: 0.8150 - val_loss: 0.5772 - val_acc: 0.7250\n",
      "Epoch 56/100\n",
      "19/19 [==============================] - 0s 4ms/step - loss: 0.4693 - acc: 0.8000 - val_loss: 0.6413 - val_acc: 0.7167\n",
      "Epoch 57/100\n",
      "19/19 [==============================] - 0s 4ms/step - loss: 0.4507 - acc: 0.8317 - val_loss: 0.5677 - val_acc: 0.7250\n",
      "Epoch 58/100\n",
      "19/19 [==============================] - 0s 4ms/step - loss: 0.4802 - acc: 0.8067 - val_loss: 0.5650 - val_acc: 0.7417\n",
      "Epoch 59/100\n",
      "19/19 [==============================] - 0s 4ms/step - loss: 0.4414 - acc: 0.8383 - val_loss: 0.5558 - val_acc: 0.7250\n",
      "Epoch 60/100\n",
      "19/19 [==============================] - 0s 4ms/step - loss: 0.4444 - acc: 0.8333 - val_loss: 0.5568 - val_acc: 0.7500\n",
      "Epoch 61/100\n",
      "19/19 [==============================] - 0s 4ms/step - loss: 0.4562 - acc: 0.8350 - val_loss: 0.5842 - val_acc: 0.7250\n",
      "Epoch 62/100\n",
      "19/19 [==============================] - 0s 4ms/step - loss: 0.4508 - acc: 0.8150 - val_loss: 0.5938 - val_acc: 0.7167\n",
      "Epoch 63/100\n",
      "19/19 [==============================] - 0s 4ms/step - loss: 0.4487 - acc: 0.8200 - val_loss: 0.6227 - val_acc: 0.7083\n",
      "Epoch 64/100\n",
      "19/19 [==============================] - 0s 4ms/step - loss: 0.4415 - acc: 0.8300 - val_loss: 0.5848 - val_acc: 0.7250\n",
      "Epoch 65/100\n",
      "19/19 [==============================] - 0s 4ms/step - loss: 0.4438 - acc: 0.8217 - val_loss: 0.5872 - val_acc: 0.7083\n",
      "Epoch 66/100\n",
      "19/19 [==============================] - 0s 4ms/step - loss: 0.4543 - acc: 0.8300 - val_loss: 0.5746 - val_acc: 0.7500\n",
      "Epoch 67/100\n",
      "19/19 [==============================] - 0s 4ms/step - loss: 0.4375 - acc: 0.8333 - val_loss: 0.5748 - val_acc: 0.7667\n",
      "Epoch 68/100\n",
      "19/19 [==============================] - 0s 4ms/step - loss: 0.4415 - acc: 0.8317 - val_loss: 0.5602 - val_acc: 0.7500\n",
      "Epoch 69/100\n",
      "19/19 [==============================] - 0s 4ms/step - loss: 0.4376 - acc: 0.8233 - val_loss: 0.5476 - val_acc: 0.7417\n",
      "Epoch 70/100\n",
      "19/19 [==============================] - 0s 3ms/step - loss: 0.4271 - acc: 0.8383 - val_loss: 0.5888 - val_acc: 0.7417\n",
      "Epoch 71/100\n",
      "19/19 [==============================] - 0s 4ms/step - loss: 0.4237 - acc: 0.8450 - val_loss: 0.6323 - val_acc: 0.7083\n",
      "Epoch 72/100\n",
      "19/19 [==============================] - 0s 3ms/step - loss: 0.4246 - acc: 0.8417 - val_loss: 0.5529 - val_acc: 0.7250\n",
      "Epoch 73/100\n",
      "19/19 [==============================] - 0s 3ms/step - loss: 0.4350 - acc: 0.8200 - val_loss: 0.5543 - val_acc: 0.7333\n",
      "Epoch 74/100\n",
      "19/19 [==============================] - 0s 4ms/step - loss: 0.4160 - acc: 0.8350 - val_loss: 0.5856 - val_acc: 0.7417\n",
      "Epoch 75/100\n",
      "19/19 [==============================] - 0s 4ms/step - loss: 0.4206 - acc: 0.8383 - val_loss: 0.5821 - val_acc: 0.7500\n",
      "Epoch 76/100\n",
      "19/19 [==============================] - 0s 4ms/step - loss: 0.4291 - acc: 0.8267 - val_loss: 0.5643 - val_acc: 0.7500\n",
      "Epoch 77/100\n",
      "19/19 [==============================] - 0s 4ms/step - loss: 0.4226 - acc: 0.8417 - val_loss: 0.5389 - val_acc: 0.7583\n",
      "Epoch 78/100\n",
      "19/19 [==============================] - 0s 4ms/step - loss: 0.3978 - acc: 0.8383 - val_loss: 0.6029 - val_acc: 0.7417\n",
      "Epoch 79/100\n",
      "19/19 [==============================] - 0s 4ms/step - loss: 0.4169 - acc: 0.8300 - val_loss: 0.6198 - val_acc: 0.7167\n",
      "Epoch 80/100\n",
      "19/19 [==============================] - 0s 4ms/step - loss: 0.4174 - acc: 0.8367 - val_loss: 0.5751 - val_acc: 0.7333\n",
      "Epoch 81/100\n",
      "19/19 [==============================] - 0s 4ms/step - loss: 0.4107 - acc: 0.8600 - val_loss: 0.6084 - val_acc: 0.7333\n",
      "Epoch 82/100\n",
      "19/19 [==============================] - 0s 4ms/step - loss: 0.4075 - acc: 0.8417 - val_loss: 0.5745 - val_acc: 0.7500\n",
      "Epoch 83/100\n",
      "19/19 [==============================] - 0s 4ms/step - loss: 0.4008 - acc: 0.8583 - val_loss: 0.5592 - val_acc: 0.7250\n",
      "Epoch 84/100\n",
      "19/19 [==============================] - 0s 4ms/step - loss: 0.3976 - acc: 0.8567 - val_loss: 0.6944 - val_acc: 0.7083\n",
      "Epoch 85/100\n",
      "19/19 [==============================] - 0s 4ms/step - loss: 0.4034 - acc: 0.8533 - val_loss: 0.5485 - val_acc: 0.7583\n",
      "Epoch 86/100\n",
      "19/19 [==============================] - 0s 4ms/step - loss: 0.4057 - acc: 0.8617 - val_loss: 0.5774 - val_acc: 0.7417\n",
      "Epoch 87/100\n",
      "19/19 [==============================] - 0s 4ms/step - loss: 0.3988 - acc: 0.8450 - val_loss: 0.5567 - val_acc: 0.7167\n",
      "Epoch 88/100\n",
      "19/19 [==============================] - 0s 4ms/step - loss: 0.4085 - acc: 0.8317 - val_loss: 0.5780 - val_acc: 0.7583\n",
      "Epoch 89/100\n",
      "19/19 [==============================] - 0s 4ms/step - loss: 0.4163 - acc: 0.8433 - val_loss: 0.5732 - val_acc: 0.7250\n",
      "Epoch 90/100\n",
      "19/19 [==============================] - 0s 4ms/step - loss: 0.4190 - acc: 0.8267 - val_loss: 0.5473 - val_acc: 0.7333\n",
      "Epoch 91/100\n",
      "19/19 [==============================] - 0s 4ms/step - loss: 0.4017 - acc: 0.8417 - val_loss: 0.5731 - val_acc: 0.7500\n",
      "Epoch 92/100\n",
      "19/19 [==============================] - 0s 4ms/step - loss: 0.3837 - acc: 0.8583 - val_loss: 0.6071 - val_acc: 0.7333\n",
      "Epoch 93/100\n",
      "19/19 [==============================] - 0s 4ms/step - loss: 0.3888 - acc: 0.8600 - val_loss: 0.5552 - val_acc: 0.7500\n",
      "Epoch 94/100\n",
      "19/19 [==============================] - 0s 4ms/step - loss: 0.3946 - acc: 0.8500 - val_loss: 0.7669 - val_acc: 0.7083\n",
      "Epoch 95/100\n",
      "19/19 [==============================] - 0s 4ms/step - loss: 0.3972 - acc: 0.8567 - val_loss: 0.6077 - val_acc: 0.7250\n",
      "Epoch 96/100\n",
      "19/19 [==============================] - 0s 4ms/step - loss: 0.3834 - acc: 0.8433 - val_loss: 0.5525 - val_acc: 0.7333\n",
      "Epoch 97/100\n",
      "19/19 [==============================] - 0s 4ms/step - loss: 0.3853 - acc: 0.8550 - val_loss: 0.5551 - val_acc: 0.7250\n",
      "Epoch 98/100\n",
      "19/19 [==============================] - 0s 3ms/step - loss: 0.3971 - acc: 0.8500 - val_loss: 0.5749 - val_acc: 0.7167\n",
      "Epoch 99/100\n",
      "19/19 [==============================] - 0s 4ms/step - loss: 0.3761 - acc: 0.8683 - val_loss: 0.5435 - val_acc: 0.7333\n",
      "Epoch 100/100\n",
      "19/19 [==============================] - 0s 3ms/step - loss: 0.3844 - acc: 0.8617 - val_loss: 0.7002 - val_acc: 0.6833\n"
     ]
    }
   ],
   "source": [
    "tensorboard_cb = tf.keras.callbacks.TensorBoard(\n",
    "    log_dir=\"../models/keras_models/keras_logs/\" + datetime.datetime.now().strftime(\"model_b_%Y%m%d-%H%M%S\"), \n",
    "    histogram_freq=1\n",
    ")\n",
    "\n",
    "history_b = model_pmc_b.fit(\n",
    "    x=x_train, \n",
    "    y=y_train, \n",
    "    epochs=100, \n",
    "    validation_data=(x_test, y_test), \n",
    "    callbacks=[\n",
    "        tensorboard_cb,\n",
    "        checkpoint_cb,\n",
    "    ]\n",
    ")"
   ]
  },
  {
   "cell_type": "code",
   "execution_count": 25,
   "metadata": {
    "scrolled": true
   },
   "outputs": [
    {
     "ename": "NameError",
     "evalue": "name 'history_b' is not defined",
     "output_type": "error",
     "traceback": [
      "\u001b[1;31m---------------------------------------------------------------------------\u001b[0m",
      "\u001b[1;31mNameError\u001b[0m                                 Traceback (most recent call last)",
      "\u001b[1;32m<ipython-input-25-a253a0c235fd>\u001b[0m in \u001b[0;36m<module>\u001b[1;34m\u001b[0m\n\u001b[1;32m----> 1\u001b[1;33m \u001b[0mhistory_b\u001b[0m\u001b[1;33m.\u001b[0m\u001b[0mhistory\u001b[0m\u001b[1;33m.\u001b[0m\u001b[0mkeys\u001b[0m\u001b[1;33m(\u001b[0m\u001b[1;33m)\u001b[0m\u001b[1;33m\u001b[0m\u001b[1;33m\u001b[0m\u001b[0m\n\u001b[0m",
      "\u001b[1;31mNameError\u001b[0m: name 'history_b' is not defined"
     ]
    }
   ],
   "source": [
    "history_b.history.keys()"
   ]
  },
  {
   "cell_type": "code",
   "execution_count": null,
   "metadata": {},
   "outputs": [],
   "source": []
  },
  {
   "cell_type": "code",
   "execution_count": null,
   "metadata": {},
   "outputs": [],
   "source": []
  },
  {
   "cell_type": "code",
   "execution_count": 28,
   "metadata": {},
   "outputs": [],
   "source": [
    "#### ------------------------------------------- ####\n",
    "#### ------------- TRAIN MODEL (C) ------------- #### \n",
    "#### ------------------------------------------- ####"
   ]
  },
  {
   "cell_type": "code",
   "execution_count": 29,
   "metadata": {},
   "outputs": [],
   "source": [
    "tf.keras.backend.clear_session()"
   ]
  },
  {
   "cell_type": "code",
   "execution_count": 72,
   "metadata": {},
   "outputs": [],
   "source": [
    "# Callbacks for saving the checkpoints at every epoch.\n",
    "checkpoint_cb = tf.keras.callbacks.ModelCheckpoint('../models/keras_models/model_c.h5', save_best_only=True)"
   ]
  },
  {
   "cell_type": "code",
   "execution_count": 73,
   "metadata": {
    "scrolled": true
   },
   "outputs": [
    {
     "name": "stdout",
     "output_type": "stream",
     "text": [
      "Epoch 1/100\n",
      "19/19 [==============================] - 1s 59ms/step - loss: 1.0398 - acc: 0.5417 - val_loss: 0.8518 - val_acc: 0.5917\n",
      "Epoch 2/100\n",
      "19/19 [==============================] - 0s 5ms/step - loss: 0.9069 - acc: 0.5683 - val_loss: 0.7884 - val_acc: 0.6667\n",
      "Epoch 3/100\n",
      "19/19 [==============================] - 0s 5ms/step - loss: 0.8530 - acc: 0.6117 - val_loss: 0.7427 - val_acc: 0.7000\n",
      "Epoch 4/100\n",
      "19/19 [==============================] - 0s 4ms/step - loss: 0.7808 - acc: 0.6600 - val_loss: 0.6635 - val_acc: 0.7333\n",
      "Epoch 5/100\n",
      "19/19 [==============================] - 0s 5ms/step - loss: 0.7654 - acc: 0.6667 - val_loss: 0.7076 - val_acc: 0.6667\n",
      "Epoch 6/100\n",
      "19/19 [==============================] - 0s 5ms/step - loss: 0.7531 - acc: 0.6800 - val_loss: 0.7058 - val_acc: 0.7000\n",
      "Epoch 7/100\n",
      "19/19 [==============================] - 0s 4ms/step - loss: 0.6945 - acc: 0.7217 - val_loss: 0.7159 - val_acc: 0.7250\n",
      "Epoch 8/100\n",
      "19/19 [==============================] - 0s 5ms/step - loss: 0.6987 - acc: 0.7100 - val_loss: 0.6402 - val_acc: 0.7417\n",
      "Epoch 9/100\n",
      "19/19 [==============================] - 0s 4ms/step - loss: 0.6517 - acc: 0.7400 - val_loss: 0.6670 - val_acc: 0.7167\n",
      "Epoch 10/100\n",
      "19/19 [==============================] - 0s 4ms/step - loss: 0.6620 - acc: 0.7150 - val_loss: 0.6700 - val_acc: 0.7000\n",
      "Epoch 11/100\n",
      "19/19 [==============================] - 0s 5ms/step - loss: 0.6279 - acc: 0.7333 - val_loss: 0.6317 - val_acc: 0.7333\n",
      "Epoch 12/100\n",
      "19/19 [==============================] - 0s 5ms/step - loss: 0.6406 - acc: 0.7250 - val_loss: 0.5971 - val_acc: 0.7667\n",
      "Epoch 13/100\n",
      "19/19 [==============================] - 0s 5ms/step - loss: 0.6250 - acc: 0.7383 - val_loss: 0.6185 - val_acc: 0.7333\n",
      "Epoch 14/100\n",
      "19/19 [==============================] - 0s 5ms/step - loss: 0.6150 - acc: 0.7600 - val_loss: 0.6276 - val_acc: 0.7417\n",
      "Epoch 15/100\n",
      "19/19 [==============================] - 0s 4ms/step - loss: 0.5760 - acc: 0.7667 - val_loss: 0.5891 - val_acc: 0.7500\n",
      "Epoch 16/100\n",
      "19/19 [==============================] - 0s 5ms/step - loss: 0.5757 - acc: 0.7750 - val_loss: 0.6037 - val_acc: 0.7500\n",
      "Epoch 17/100\n",
      "19/19 [==============================] - 0s 4ms/step - loss: 0.5939 - acc: 0.7500 - val_loss: 0.7792 - val_acc: 0.6250\n",
      "Epoch 18/100\n",
      "19/19 [==============================] - 0s 4ms/step - loss: 0.5716 - acc: 0.7700 - val_loss: 0.5861 - val_acc: 0.7500\n",
      "Epoch 19/100\n",
      "19/19 [==============================] - 0s 5ms/step - loss: 0.5671 - acc: 0.7600 - val_loss: 0.5774 - val_acc: 0.7417\n",
      "Epoch 20/100\n",
      "19/19 [==============================] - 0s 4ms/step - loss: 0.5497 - acc: 0.7767 - val_loss: 0.5644 - val_acc: 0.7750\n",
      "Epoch 21/100\n",
      "19/19 [==============================] - 0s 4ms/step - loss: 0.5612 - acc: 0.7667 - val_loss: 0.6359 - val_acc: 0.7000\n",
      "Epoch 22/100\n",
      "19/19 [==============================] - 0s 4ms/step - loss: 0.5681 - acc: 0.7550 - val_loss: 0.5638 - val_acc: 0.7500\n",
      "Epoch 23/100\n",
      "19/19 [==============================] - 0s 4ms/step - loss: 0.5471 - acc: 0.7833 - val_loss: 0.6377 - val_acc: 0.7417\n",
      "Epoch 24/100\n",
      "19/19 [==============================] - 0s 4ms/step - loss: 0.5513 - acc: 0.7567 - val_loss: 0.6510 - val_acc: 0.7000\n",
      "Epoch 25/100\n",
      "19/19 [==============================] - 0s 4ms/step - loss: 0.5147 - acc: 0.7883 - val_loss: 0.6208 - val_acc: 0.7333\n",
      "Epoch 26/100\n",
      "19/19 [==============================] - 0s 4ms/step - loss: 0.5398 - acc: 0.7750 - val_loss: 0.5445 - val_acc: 0.7667\n",
      "Epoch 27/100\n",
      "19/19 [==============================] - 0s 4ms/step - loss: 0.5034 - acc: 0.7933 - val_loss: 0.5541 - val_acc: 0.7833\n",
      "Epoch 28/100\n",
      "19/19 [==============================] - 0s 5ms/step - loss: 0.5172 - acc: 0.7717 - val_loss: 0.7449 - val_acc: 0.6917\n",
      "Epoch 29/100\n",
      "19/19 [==============================] - 0s 5ms/step - loss: 0.5112 - acc: 0.8033 - val_loss: 0.6355 - val_acc: 0.7250\n",
      "Epoch 30/100\n",
      "19/19 [==============================] - 0s 4ms/step - loss: 0.5066 - acc: 0.7800 - val_loss: 0.6264 - val_acc: 0.7167\n",
      "Epoch 31/100\n",
      "19/19 [==============================] - 0s 4ms/step - loss: 0.5030 - acc: 0.7967 - val_loss: 0.5572 - val_acc: 0.7750\n",
      "Epoch 32/100\n",
      "19/19 [==============================] - 0s 4ms/step - loss: 0.4919 - acc: 0.8017 - val_loss: 0.5748 - val_acc: 0.7500\n",
      "Epoch 33/100\n",
      "19/19 [==============================] - 0s 4ms/step - loss: 0.4846 - acc: 0.8083 - val_loss: 0.6608 - val_acc: 0.7167\n",
      "Epoch 34/100\n",
      "19/19 [==============================] - 0s 4ms/step - loss: 0.5015 - acc: 0.7933 - val_loss: 0.5599 - val_acc: 0.8083\n",
      "Epoch 35/100\n",
      "19/19 [==============================] - 0s 4ms/step - loss: 0.4894 - acc: 0.7967 - val_loss: 0.5287 - val_acc: 0.7750\n",
      "Epoch 36/100\n",
      "19/19 [==============================] - 0s 4ms/step - loss: 0.4640 - acc: 0.8233 - val_loss: 0.5680 - val_acc: 0.7167\n",
      "Epoch 37/100\n",
      "19/19 [==============================] - 0s 4ms/step - loss: 0.4734 - acc: 0.8050 - val_loss: 0.5399 - val_acc: 0.7583\n",
      "Epoch 38/100\n",
      "19/19 [==============================] - 0s 4ms/step - loss: 0.4739 - acc: 0.8183 - val_loss: 0.5954 - val_acc: 0.7167\n",
      "Epoch 39/100\n",
      "19/19 [==============================] - 0s 4ms/step - loss: 0.5022 - acc: 0.7800 - val_loss: 0.5687 - val_acc: 0.7750\n",
      "Epoch 40/100\n",
      "19/19 [==============================] - 0s 4ms/step - loss: 0.4554 - acc: 0.8267 - val_loss: 0.5523 - val_acc: 0.8000\n",
      "Epoch 41/100\n",
      "19/19 [==============================] - 0s 4ms/step - loss: 0.4812 - acc: 0.8033 - val_loss: 0.6245 - val_acc: 0.7333\n",
      "Epoch 42/100\n",
      "19/19 [==============================] - 0s 4ms/step - loss: 0.4598 - acc: 0.8117 - val_loss: 0.6084 - val_acc: 0.7250\n",
      "Epoch 43/100\n",
      "19/19 [==============================] - 0s 5ms/step - loss: 0.4676 - acc: 0.8100 - val_loss: 0.6067 - val_acc: 0.7250\n",
      "Epoch 44/100\n",
      "19/19 [==============================] - 0s 4ms/step - loss: 0.4513 - acc: 0.8217 - val_loss: 0.6071 - val_acc: 0.7167\n",
      "Epoch 45/100\n",
      "19/19 [==============================] - 0s 5ms/step - loss: 0.4540 - acc: 0.8267 - val_loss: 0.5613 - val_acc: 0.7583\n",
      "Epoch 46/100\n",
      "19/19 [==============================] - 0s 5ms/step - loss: 0.4346 - acc: 0.8317 - val_loss: 0.5395 - val_acc: 0.7750\n",
      "Epoch 47/100\n",
      "19/19 [==============================] - 0s 5ms/step - loss: 0.4402 - acc: 0.8267 - val_loss: 0.5377 - val_acc: 0.7667\n",
      "Epoch 48/100\n",
      "19/19 [==============================] - 0s 5ms/step - loss: 0.4332 - acc: 0.8233 - val_loss: 0.5637 - val_acc: 0.7667\n",
      "Epoch 49/100\n",
      "19/19 [==============================] - 0s 5ms/step - loss: 0.4343 - acc: 0.8400 - val_loss: 0.6100 - val_acc: 0.7250\n",
      "Epoch 50/100\n",
      "19/19 [==============================] - 0s 5ms/step - loss: 0.4619 - acc: 0.8100 - val_loss: 0.5676 - val_acc: 0.7333\n",
      "Epoch 51/100\n",
      "19/19 [==============================] - 0s 5ms/step - loss: 0.4281 - acc: 0.8317 - val_loss: 0.5069 - val_acc: 0.7583\n",
      "Epoch 52/100\n",
      "19/19 [==============================] - 0s 4ms/step - loss: 0.4235 - acc: 0.8333 - val_loss: 0.5290 - val_acc: 0.7667\n",
      "Epoch 53/100\n",
      "19/19 [==============================] - 0s 5ms/step - loss: 0.4248 - acc: 0.8400 - val_loss: 0.5675 - val_acc: 0.7583\n",
      "Epoch 54/100\n",
      "19/19 [==============================] - 0s 5ms/step - loss: 0.4171 - acc: 0.8333 - val_loss: 0.5644 - val_acc: 0.7500\n",
      "Epoch 55/100\n",
      "19/19 [==============================] - 0s 5ms/step - loss: 0.4427 - acc: 0.8250 - val_loss: 0.5461 - val_acc: 0.7750\n",
      "Epoch 56/100\n",
      "19/19 [==============================] - 0s 4ms/step - loss: 0.4120 - acc: 0.8483 - val_loss: 0.6179 - val_acc: 0.7417\n",
      "Epoch 57/100\n",
      "19/19 [==============================] - 0s 4ms/step - loss: 0.4186 - acc: 0.8350 - val_loss: 0.5202 - val_acc: 0.7750\n",
      "Epoch 58/100\n",
      "19/19 [==============================] - 0s 5ms/step - loss: 0.4153 - acc: 0.8400 - val_loss: 0.5776 - val_acc: 0.7750\n",
      "Epoch 59/100\n",
      "19/19 [==============================] - 0s 4ms/step - loss: 0.4172 - acc: 0.8500 - val_loss: 0.5239 - val_acc: 0.7667\n",
      "Epoch 60/100\n",
      "19/19 [==============================] - 0s 5ms/step - loss: 0.4028 - acc: 0.8467 - val_loss: 0.5208 - val_acc: 0.7833\n",
      "Epoch 61/100\n",
      "19/19 [==============================] - 0s 4ms/step - loss: 0.4229 - acc: 0.8233 - val_loss: 0.5427 - val_acc: 0.7917\n",
      "Epoch 62/100\n",
      "19/19 [==============================] - 0s 4ms/step - loss: 0.4097 - acc: 0.8333 - val_loss: 0.5154 - val_acc: 0.8000\n",
      "Epoch 63/100\n",
      "19/19 [==============================] - 0s 4ms/step - loss: 0.3873 - acc: 0.8583 - val_loss: 0.5410 - val_acc: 0.7583\n",
      "Epoch 64/100\n",
      "19/19 [==============================] - 0s 4ms/step - loss: 0.3910 - acc: 0.8617 - val_loss: 0.6007 - val_acc: 0.7417\n",
      "Epoch 65/100\n",
      "19/19 [==============================] - 0s 4ms/step - loss: 0.3987 - acc: 0.8300 - val_loss: 0.6122 - val_acc: 0.7250\n",
      "Epoch 66/100\n",
      "19/19 [==============================] - 0s 4ms/step - loss: 0.4098 - acc: 0.8367 - val_loss: 0.6188 - val_acc: 0.7500\n",
      "Epoch 67/100\n",
      "19/19 [==============================] - 0s 4ms/step - loss: 0.4045 - acc: 0.8283 - val_loss: 0.5162 - val_acc: 0.7750\n",
      "Epoch 68/100\n",
      "19/19 [==============================] - 0s 4ms/step - loss: 0.3838 - acc: 0.8500 - val_loss: 0.5592 - val_acc: 0.7417\n",
      "Epoch 69/100\n",
      "19/19 [==============================] - 0s 4ms/step - loss: 0.4015 - acc: 0.8400 - val_loss: 0.5294 - val_acc: 0.7583\n",
      "Epoch 70/100\n",
      "19/19 [==============================] - 0s 4ms/step - loss: 0.3940 - acc: 0.8433 - val_loss: 0.5126 - val_acc: 0.7500\n",
      "Epoch 71/100\n",
      "19/19 [==============================] - 0s 4ms/step - loss: 0.3800 - acc: 0.8500 - val_loss: 0.5548 - val_acc: 0.7667\n",
      "Epoch 72/100\n",
      "19/19 [==============================] - 0s 5ms/step - loss: 0.3744 - acc: 0.8600 - val_loss: 0.5177 - val_acc: 0.8000\n",
      "Epoch 73/100\n",
      "19/19 [==============================] - 0s 4ms/step - loss: 0.3899 - acc: 0.8550 - val_loss: 0.5214 - val_acc: 0.7667\n",
      "Epoch 74/100\n",
      "19/19 [==============================] - 0s 4ms/step - loss: 0.3836 - acc: 0.8483 - val_loss: 0.5113 - val_acc: 0.7583\n",
      "Epoch 75/100\n",
      "19/19 [==============================] - 0s 4ms/step - loss: 0.3765 - acc: 0.8450 - val_loss: 0.5224 - val_acc: 0.7833\n",
      "Epoch 76/100\n",
      "19/19 [==============================] - 0s 4ms/step - loss: 0.3654 - acc: 0.8750 - val_loss: 0.5293 - val_acc: 0.7833\n",
      "Epoch 77/100\n",
      "19/19 [==============================] - 0s 4ms/step - loss: 0.3660 - acc: 0.8483 - val_loss: 0.5241 - val_acc: 0.7833\n",
      "Epoch 78/100\n",
      "19/19 [==============================] - 0s 4ms/step - loss: 0.3877 - acc: 0.8517 - val_loss: 0.5519 - val_acc: 0.7583\n",
      "Epoch 79/100\n",
      "19/19 [==============================] - 0s 5ms/step - loss: 0.3849 - acc: 0.8533 - val_loss: 0.5799 - val_acc: 0.7500\n",
      "Epoch 80/100\n",
      "19/19 [==============================] - 0s 4ms/step - loss: 0.3720 - acc: 0.8600 - val_loss: 0.5787 - val_acc: 0.7333\n",
      "Epoch 81/100\n",
      "19/19 [==============================] - 0s 15ms/step - loss: 0.3951 - acc: 0.8433 - val_loss: 0.5960 - val_acc: 0.7167\n",
      "Epoch 82/100\n",
      "19/19 [==============================] - 0s 4ms/step - loss: 0.3636 - acc: 0.8617 - val_loss: 0.5211 - val_acc: 0.7750\n",
      "Epoch 83/100\n",
      "19/19 [==============================] - 0s 4ms/step - loss: 0.3649 - acc: 0.8617 - val_loss: 0.5556 - val_acc: 0.7583\n",
      "Epoch 84/100\n",
      "19/19 [==============================] - 0s 4ms/step - loss: 0.3638 - acc: 0.8600 - val_loss: 0.5872 - val_acc: 0.7500\n",
      "Epoch 85/100\n",
      "19/19 [==============================] - 0s 4ms/step - loss: 0.3893 - acc: 0.8567 - val_loss: 0.5132 - val_acc: 0.7917\n",
      "Epoch 86/100\n",
      "19/19 [==============================] - 0s 4ms/step - loss: 0.3578 - acc: 0.8633 - val_loss: 0.5244 - val_acc: 0.7333\n",
      "Epoch 87/100\n",
      "19/19 [==============================] - 0s 4ms/step - loss: 0.3551 - acc: 0.8650 - val_loss: 0.6150 - val_acc: 0.7083\n",
      "Epoch 88/100\n",
      "19/19 [==============================] - 0s 5ms/step - loss: 0.3612 - acc: 0.8683 - val_loss: 0.5691 - val_acc: 0.7833\n",
      "Epoch 89/100\n",
      "19/19 [==============================] - 0s 5ms/step - loss: 0.3403 - acc: 0.8700 - val_loss: 0.5307 - val_acc: 0.7750\n",
      "Epoch 90/100\n",
      "19/19 [==============================] - 0s 4ms/step - loss: 0.3372 - acc: 0.8900 - val_loss: 0.5041 - val_acc: 0.7667\n",
      "Epoch 91/100\n",
      "19/19 [==============================] - 0s 4ms/step - loss: 0.3440 - acc: 0.8700 - val_loss: 0.4964 - val_acc: 0.7583\n",
      "Epoch 92/100\n",
      "19/19 [==============================] - 0s 4ms/step - loss: 0.3341 - acc: 0.8867 - val_loss: 0.5435 - val_acc: 0.7750\n",
      "Epoch 93/100\n",
      "19/19 [==============================] - 0s 4ms/step - loss: 0.3596 - acc: 0.8667 - val_loss: 0.5585 - val_acc: 0.7333\n",
      "Epoch 94/100\n",
      "19/19 [==============================] - 0s 4ms/step - loss: 0.3366 - acc: 0.8750 - val_loss: 0.4989 - val_acc: 0.7750\n",
      "Epoch 95/100\n",
      "19/19 [==============================] - 0s 4ms/step - loss: 0.3332 - acc: 0.8767 - val_loss: 0.5516 - val_acc: 0.7333\n",
      "Epoch 96/100\n",
      "19/19 [==============================] - 0s 4ms/step - loss: 0.3502 - acc: 0.8667 - val_loss: 0.5573 - val_acc: 0.7583\n",
      "Epoch 97/100\n",
      "19/19 [==============================] - 0s 5ms/step - loss: 0.3355 - acc: 0.8750 - val_loss: 0.6867 - val_acc: 0.7083\n",
      "Epoch 98/100\n",
      "19/19 [==============================] - 0s 4ms/step - loss: 0.3235 - acc: 0.8817 - val_loss: 0.5308 - val_acc: 0.7667\n",
      "Epoch 99/100\n",
      "19/19 [==============================] - 0s 4ms/step - loss: 0.3457 - acc: 0.8783 - val_loss: 0.5096 - val_acc: 0.7667\n",
      "Epoch 100/100\n",
      "19/19 [==============================] - 0s 4ms/step - loss: 0.3281 - acc: 0.8833 - val_loss: 0.5785 - val_acc: 0.7333\n"
     ]
    }
   ],
   "source": [
    "tensorboard_cb = tf.keras.callbacks.TensorBoard(\n",
    "    log_dir=\"../models/keras_models/keras_logs/\" + datetime.datetime.now().strftime(\"model_c_%Y%m%d-%H%M%S\"), \n",
    "    histogram_freq=1\n",
    ")\n",
    "\n",
    "history_c = model_pmc_c.fit(\n",
    "    x=x_train, \n",
    "    y=y_train, \n",
    "    epochs=100, \n",
    "    validation_data=(x_test, y_test), \n",
    "    callbacks=[\n",
    "        tensorboard_cb,\n",
    "        checkpoint_cb,\n",
    "    ]\n",
    ")"
   ]
  },
  {
   "cell_type": "code",
   "execution_count": 23,
   "metadata": {
    "scrolled": false
   },
   "outputs": [
    {
     "ename": "NameError",
     "evalue": "name 'history_c' is not defined",
     "output_type": "error",
     "traceback": [
      "\u001b[1;31m---------------------------------------------------------------------------\u001b[0m",
      "\u001b[1;31mNameError\u001b[0m                                 Traceback (most recent call last)",
      "\u001b[1;32m<ipython-input-23-7fb9ae227e87>\u001b[0m in \u001b[0;36m<module>\u001b[1;34m\u001b[0m\n\u001b[1;32m----> 1\u001b[1;33m \u001b[0mhistory_c\u001b[0m\u001b[1;33m.\u001b[0m\u001b[0mhistory\u001b[0m\u001b[1;33m.\u001b[0m\u001b[0mkeys\u001b[0m\u001b[1;33m(\u001b[0m\u001b[1;33m)\u001b[0m\u001b[1;33m\u001b[0m\u001b[1;33m\u001b[0m\u001b[0m\n\u001b[0m",
      "\u001b[1;31mNameError\u001b[0m: name 'history_c' is not defined"
     ]
    }
   ],
   "source": [
    "history_c.history.keys()"
   ]
  },
  {
   "cell_type": "code",
   "execution_count": null,
   "metadata": {},
   "outputs": [],
   "source": []
  },
  {
   "cell_type": "code",
   "execution_count": null,
   "metadata": {},
   "outputs": [],
   "source": [
    "#### ------------------------------------------- ####\n",
    "#### ------------- TRAIN MODEL (D) ------------- #### \n",
    "#### ------------------------------------------- ####"
   ]
  },
  {
   "cell_type": "code",
   "execution_count": 26,
   "metadata": {},
   "outputs": [],
   "source": [
    "tf.keras.backend.clear_session()"
   ]
  },
  {
   "cell_type": "code",
   "execution_count": 27,
   "metadata": {},
   "outputs": [],
   "source": [
    "# Callbacks for saving the checkpoints at every epoch.\n",
    "checkpoint_cb = tf.keras.callbacks.ModelCheckpoint('../models/keras_models/model_d.h5', save_best_only=True)"
   ]
  },
  {
   "cell_type": "code",
   "execution_count": 67,
   "metadata": {
    "collapsed": true
   },
   "outputs": [
    {
     "name": "stdout",
     "output_type": "stream",
     "text": [
      "Epoch 1/100\n",
      "19/19 [==============================] - 1s 57ms/step - loss: 0.1334 - acc: 0.9650 - val_loss: 0.6816 - val_acc: 0.7333\n",
      "Epoch 2/100\n",
      " 1/19 [>.............................] - ETA: 0s - loss: 0.0911 - acc: 0.9688"
     ]
    },
    {
     "ename": "KeyboardInterrupt",
     "evalue": "",
     "output_type": "error",
     "traceback": [
      "\u001b[1;31m---------------------------------------------------------------------------\u001b[0m",
      "\u001b[1;31mKeyboardInterrupt\u001b[0m                         Traceback (most recent call last)",
      "\u001b[1;32m<ipython-input-67-f89cbb314f76>\u001b[0m in \u001b[0;36m<module>\u001b[1;34m\u001b[0m\n\u001b[0;32m      4\u001b[0m )\n\u001b[0;32m      5\u001b[0m \u001b[1;33m\u001b[0m\u001b[0m\n\u001b[1;32m----> 6\u001b[1;33m history_d = model_pmc_d.fit(\n\u001b[0m\u001b[0;32m      7\u001b[0m     \u001b[0mx\u001b[0m\u001b[1;33m=\u001b[0m\u001b[0mx_train\u001b[0m\u001b[1;33m,\u001b[0m\u001b[1;33m\u001b[0m\u001b[1;33m\u001b[0m\u001b[0m\n\u001b[0;32m      8\u001b[0m     \u001b[0my\u001b[0m\u001b[1;33m=\u001b[0m\u001b[0my_train\u001b[0m\u001b[1;33m,\u001b[0m\u001b[1;33m\u001b[0m\u001b[1;33m\u001b[0m\u001b[0m\n",
      "\u001b[1;32m~\\anaconda3\\envs\\tf25\\lib\\site-packages\\tensorflow\\python\\keras\\engine\\training.py\u001b[0m in \u001b[0;36mfit\u001b[1;34m(self, x, y, batch_size, epochs, verbose, callbacks, validation_split, validation_data, shuffle, class_weight, sample_weight, initial_epoch, steps_per_epoch, validation_steps, validation_batch_size, validation_freq, max_queue_size, workers, use_multiprocessing)\u001b[0m\n\u001b[0;32m   1181\u001b[0m                 _r=1):\n\u001b[0;32m   1182\u001b[0m               \u001b[0mcallbacks\u001b[0m\u001b[1;33m.\u001b[0m\u001b[0mon_train_batch_begin\u001b[0m\u001b[1;33m(\u001b[0m\u001b[0mstep\u001b[0m\u001b[1;33m)\u001b[0m\u001b[1;33m\u001b[0m\u001b[1;33m\u001b[0m\u001b[0m\n\u001b[1;32m-> 1183\u001b[1;33m               \u001b[0mtmp_logs\u001b[0m \u001b[1;33m=\u001b[0m \u001b[0mself\u001b[0m\u001b[1;33m.\u001b[0m\u001b[0mtrain_function\u001b[0m\u001b[1;33m(\u001b[0m\u001b[0miterator\u001b[0m\u001b[1;33m)\u001b[0m\u001b[1;33m\u001b[0m\u001b[1;33m\u001b[0m\u001b[0m\n\u001b[0m\u001b[0;32m   1184\u001b[0m               \u001b[1;32mif\u001b[0m \u001b[0mdata_handler\u001b[0m\u001b[1;33m.\u001b[0m\u001b[0mshould_sync\u001b[0m\u001b[1;33m:\u001b[0m\u001b[1;33m\u001b[0m\u001b[1;33m\u001b[0m\u001b[0m\n\u001b[0;32m   1185\u001b[0m                 \u001b[0mcontext\u001b[0m\u001b[1;33m.\u001b[0m\u001b[0masync_wait\u001b[0m\u001b[1;33m(\u001b[0m\u001b[1;33m)\u001b[0m\u001b[1;33m\u001b[0m\u001b[1;33m\u001b[0m\u001b[0m\n",
      "\u001b[1;32m~\\anaconda3\\envs\\tf25\\lib\\site-packages\\tensorflow\\python\\eager\\def_function.py\u001b[0m in \u001b[0;36m__call__\u001b[1;34m(self, *args, **kwds)\u001b[0m\n\u001b[0;32m    887\u001b[0m \u001b[1;33m\u001b[0m\u001b[0m\n\u001b[0;32m    888\u001b[0m       \u001b[1;32mwith\u001b[0m \u001b[0mOptionalXlaContext\u001b[0m\u001b[1;33m(\u001b[0m\u001b[0mself\u001b[0m\u001b[1;33m.\u001b[0m\u001b[0m_jit_compile\u001b[0m\u001b[1;33m)\u001b[0m\u001b[1;33m:\u001b[0m\u001b[1;33m\u001b[0m\u001b[1;33m\u001b[0m\u001b[0m\n\u001b[1;32m--> 889\u001b[1;33m         \u001b[0mresult\u001b[0m \u001b[1;33m=\u001b[0m \u001b[0mself\u001b[0m\u001b[1;33m.\u001b[0m\u001b[0m_call\u001b[0m\u001b[1;33m(\u001b[0m\u001b[1;33m*\u001b[0m\u001b[0margs\u001b[0m\u001b[1;33m,\u001b[0m \u001b[1;33m**\u001b[0m\u001b[0mkwds\u001b[0m\u001b[1;33m)\u001b[0m\u001b[1;33m\u001b[0m\u001b[1;33m\u001b[0m\u001b[0m\n\u001b[0m\u001b[0;32m    890\u001b[0m \u001b[1;33m\u001b[0m\u001b[0m\n\u001b[0;32m    891\u001b[0m       \u001b[0mnew_tracing_count\u001b[0m \u001b[1;33m=\u001b[0m \u001b[0mself\u001b[0m\u001b[1;33m.\u001b[0m\u001b[0mexperimental_get_tracing_count\u001b[0m\u001b[1;33m(\u001b[0m\u001b[1;33m)\u001b[0m\u001b[1;33m\u001b[0m\u001b[1;33m\u001b[0m\u001b[0m\n",
      "\u001b[1;32m~\\anaconda3\\envs\\tf25\\lib\\site-packages\\tensorflow\\python\\eager\\def_function.py\u001b[0m in \u001b[0;36m_call\u001b[1;34m(self, *args, **kwds)\u001b[0m\n\u001b[0;32m    922\u001b[0m       \u001b[1;31m# In this case we have not created variables on the first call. So we can\u001b[0m\u001b[1;33m\u001b[0m\u001b[1;33m\u001b[0m\u001b[1;33m\u001b[0m\u001b[0m\n\u001b[0;32m    923\u001b[0m       \u001b[1;31m# run the first trace but we should fail if variables are created.\u001b[0m\u001b[1;33m\u001b[0m\u001b[1;33m\u001b[0m\u001b[1;33m\u001b[0m\u001b[0m\n\u001b[1;32m--> 924\u001b[1;33m       \u001b[0mresults\u001b[0m \u001b[1;33m=\u001b[0m \u001b[0mself\u001b[0m\u001b[1;33m.\u001b[0m\u001b[0m_stateful_fn\u001b[0m\u001b[1;33m(\u001b[0m\u001b[1;33m*\u001b[0m\u001b[0margs\u001b[0m\u001b[1;33m,\u001b[0m \u001b[1;33m**\u001b[0m\u001b[0mkwds\u001b[0m\u001b[1;33m)\u001b[0m\u001b[1;33m\u001b[0m\u001b[1;33m\u001b[0m\u001b[0m\n\u001b[0m\u001b[0;32m    925\u001b[0m       \u001b[1;32mif\u001b[0m \u001b[0mself\u001b[0m\u001b[1;33m.\u001b[0m\u001b[0m_created_variables\u001b[0m\u001b[1;33m:\u001b[0m\u001b[1;33m\u001b[0m\u001b[1;33m\u001b[0m\u001b[0m\n\u001b[0;32m    926\u001b[0m         raise ValueError(\"Creating variables on a non-first call to a function\"\n",
      "\u001b[1;32m~\\anaconda3\\envs\\tf25\\lib\\site-packages\\tensorflow\\python\\eager\\function.py\u001b[0m in \u001b[0;36m__call__\u001b[1;34m(self, *args, **kwargs)\u001b[0m\n\u001b[0;32m   3021\u001b[0m       (graph_function,\n\u001b[0;32m   3022\u001b[0m        filtered_flat_args) = self._maybe_define_function(args, kwargs)\n\u001b[1;32m-> 3023\u001b[1;33m     return graph_function._call_flat(\n\u001b[0m\u001b[0;32m   3024\u001b[0m         filtered_flat_args, captured_inputs=graph_function.captured_inputs)  # pylint: disable=protected-access\n\u001b[0;32m   3025\u001b[0m \u001b[1;33m\u001b[0m\u001b[0m\n",
      "\u001b[1;32m~\\anaconda3\\envs\\tf25\\lib\\site-packages\\tensorflow\\python\\eager\\function.py\u001b[0m in \u001b[0;36m_call_flat\u001b[1;34m(self, args, captured_inputs, cancellation_manager)\u001b[0m\n\u001b[0;32m   1958\u001b[0m         and executing_eagerly):\n\u001b[0;32m   1959\u001b[0m       \u001b[1;31m# No tape is watching; skip to running the function.\u001b[0m\u001b[1;33m\u001b[0m\u001b[1;33m\u001b[0m\u001b[1;33m\u001b[0m\u001b[0m\n\u001b[1;32m-> 1960\u001b[1;33m       return self._build_call_outputs(self._inference_function.call(\n\u001b[0m\u001b[0;32m   1961\u001b[0m           ctx, args, cancellation_manager=cancellation_manager))\n\u001b[0;32m   1962\u001b[0m     forward_backward = self._select_forward_and_backward_functions(\n",
      "\u001b[1;32m~\\anaconda3\\envs\\tf25\\lib\\site-packages\\tensorflow\\python\\eager\\function.py\u001b[0m in \u001b[0;36mcall\u001b[1;34m(self, ctx, args, cancellation_manager)\u001b[0m\n\u001b[0;32m    589\u001b[0m       \u001b[1;32mwith\u001b[0m \u001b[0m_InterpolateFunctionError\u001b[0m\u001b[1;33m(\u001b[0m\u001b[0mself\u001b[0m\u001b[1;33m)\u001b[0m\u001b[1;33m:\u001b[0m\u001b[1;33m\u001b[0m\u001b[1;33m\u001b[0m\u001b[0m\n\u001b[0;32m    590\u001b[0m         \u001b[1;32mif\u001b[0m \u001b[0mcancellation_manager\u001b[0m \u001b[1;32mis\u001b[0m \u001b[1;32mNone\u001b[0m\u001b[1;33m:\u001b[0m\u001b[1;33m\u001b[0m\u001b[1;33m\u001b[0m\u001b[0m\n\u001b[1;32m--> 591\u001b[1;33m           outputs = execute.execute(\n\u001b[0m\u001b[0;32m    592\u001b[0m               \u001b[0mstr\u001b[0m\u001b[1;33m(\u001b[0m\u001b[0mself\u001b[0m\u001b[1;33m.\u001b[0m\u001b[0msignature\u001b[0m\u001b[1;33m.\u001b[0m\u001b[0mname\u001b[0m\u001b[1;33m)\u001b[0m\u001b[1;33m,\u001b[0m\u001b[1;33m\u001b[0m\u001b[1;33m\u001b[0m\u001b[0m\n\u001b[0;32m    593\u001b[0m               \u001b[0mnum_outputs\u001b[0m\u001b[1;33m=\u001b[0m\u001b[0mself\u001b[0m\u001b[1;33m.\u001b[0m\u001b[0m_num_outputs\u001b[0m\u001b[1;33m,\u001b[0m\u001b[1;33m\u001b[0m\u001b[1;33m\u001b[0m\u001b[0m\n",
      "\u001b[1;32m~\\anaconda3\\envs\\tf25\\lib\\site-packages\\tensorflow\\python\\eager\\execute.py\u001b[0m in \u001b[0;36mquick_execute\u001b[1;34m(op_name, num_outputs, inputs, attrs, ctx, name)\u001b[0m\n\u001b[0;32m     57\u001b[0m   \u001b[1;32mtry\u001b[0m\u001b[1;33m:\u001b[0m\u001b[1;33m\u001b[0m\u001b[1;33m\u001b[0m\u001b[0m\n\u001b[0;32m     58\u001b[0m     \u001b[0mctx\u001b[0m\u001b[1;33m.\u001b[0m\u001b[0mensure_initialized\u001b[0m\u001b[1;33m(\u001b[0m\u001b[1;33m)\u001b[0m\u001b[1;33m\u001b[0m\u001b[1;33m\u001b[0m\u001b[0m\n\u001b[1;32m---> 59\u001b[1;33m     tensors = pywrap_tfe.TFE_Py_Execute(ctx._handle, device_name, op_name,\n\u001b[0m\u001b[0;32m     60\u001b[0m                                         inputs, attrs, num_outputs)\n\u001b[0;32m     61\u001b[0m   \u001b[1;32mexcept\u001b[0m \u001b[0mcore\u001b[0m\u001b[1;33m.\u001b[0m\u001b[0m_NotOkStatusException\u001b[0m \u001b[1;32mas\u001b[0m \u001b[0me\u001b[0m\u001b[1;33m:\u001b[0m\u001b[1;33m\u001b[0m\u001b[1;33m\u001b[0m\u001b[0m\n",
      "\u001b[1;31mKeyboardInterrupt\u001b[0m: "
     ]
    }
   ],
   "source": [
    "tensorboard_cb = tf.keras.callbacks.TensorBoard(\n",
    "    log_dir=\"../models/keras_models/keras_logs/\" + datetime.datetime.now().strftime(\"model_d_%Y%m%d-%H%M%S\"), \n",
    "    histogram_freq=1\n",
    ")\n",
    "\n",
    "history_d = model_pmc_d.fit(\n",
    "    x=x_train, \n",
    "    y=y_train, \n",
    "    epochs=100, \n",
    "    validation_data=(x_test, y_test), \n",
    "    callbacks=[\n",
    "        tensorboard_cb,\n",
    "        checkpoint_cb,\n",
    "    ]\n",
    ")"
   ]
  },
  {
   "cell_type": "code",
   "execution_count": 62,
   "metadata": {},
   "outputs": [
    {
     "data": {
      "text/plain": [
       "dict_keys(['loss', 'acc', 'val_loss', 'val_acc'])"
      ]
     },
     "execution_count": 62,
     "metadata": {},
     "output_type": "execute_result"
    }
   ],
   "source": [
    "history_d.history.keys()"
   ]
  },
  {
   "cell_type": "code",
   "execution_count": null,
   "metadata": {},
   "outputs": [],
   "source": []
  },
  {
   "cell_type": "code",
   "execution_count": 30,
   "metadata": {},
   "outputs": [],
   "source": [
    "#### ------------------------------------------- ####\n",
    "#### ------------- SHOW CURVES ------------------#### \n",
    "#### ------------------------------------------- ####"
   ]
  },
  {
   "cell_type": "code",
   "execution_count": 69,
   "metadata": {
    "scrolled": true
   },
   "outputs": [],
   "source": [
    "# Load the TensorBoard notebook extension\n",
    "%load_ext tensorboard"
   ]
  },
  {
   "cell_type": "code",
   "execution_count": 73,
   "metadata": {
    "scrolled": false
   },
   "outputs": [
    {
     "data": {
      "text/plain": [
       "Reusing TensorBoard on port 6006 (pid 11448), started 0:05:49 ago. (Use '!kill 11448' to kill it.)"
      ]
     },
     "metadata": {},
     "output_type": "display_data"
    },
    {
     "data": {
      "text/html": [
       "\n",
       "      <iframe id=\"tensorboard-frame-6824d902842b1d4c\" width=\"100%\" height=\"800\" frameborder=\"0\">\n",
       "      </iframe>\n",
       "      <script>\n",
       "        (function() {\n",
       "          const frame = document.getElementById(\"tensorboard-frame-6824d902842b1d4c\");\n",
       "          const url = new URL(\"/\", window.location);\n",
       "          const port = 6006;\n",
       "          if (port) {\n",
       "            url.port = port;\n",
       "          }\n",
       "          frame.src = url;\n",
       "        })();\n",
       "      </script>\n",
       "    "
      ],
      "text/plain": [
       "<IPython.core.display.HTML object>"
      ]
     },
     "metadata": {},
     "output_type": "display_data"
    }
   ],
   "source": [
    "tensorboard --logdir logs"
   ]
  },
  {
   "cell_type": "code",
   "execution_count": null,
   "metadata": {},
   "outputs": [],
   "source": []
  }
 ],
 "metadata": {
  "colab": {
   "collapsed_sections": [],
   "name": "get_started.ipynb",
   "toc_visible": true
  },
  "kernelspec": {
   "display_name": "Python 3",
   "language": "python",
   "name": "python3"
  },
  "language_info": {
   "codemirror_mode": {
    "name": "ipython",
    "version": 3
   },
   "file_extension": ".py",
   "mimetype": "text/x-python",
   "name": "python",
   "nbconvert_exporter": "python",
   "pygments_lexer": "ipython3",
   "version": "3.9.4"
  }
 },
 "nbformat": 4,
 "nbformat_minor": 1
}
